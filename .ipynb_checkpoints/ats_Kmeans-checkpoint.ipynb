{
 "cells": [
  {
   "cell_type": "markdown",
   "metadata": {},
   "source": [
    "# <font color='green'>NEW: Trying K-Means</font>"
   ]
  },
  {
   "cell_type": "code",
   "execution_count": 1,
   "metadata": {},
   "outputs": [],
   "source": [
    "# Implementation: Creating Clusters"
   ]
  },
  {
   "cell_type": "code",
   "execution_count": 22,
   "metadata": {},
   "outputs": [],
   "source": [
    "%matplotlib inline\n",
    "import matplotlib.pyplot as plt\n",
    "import seaborn as sns; sns.set()  # for plot styling\n",
    "import numpy as np\n",
    "from sklearn.datasets import load_digits\n",
    "from sklearn.cluster import KMeans"
   ]
  },
  {
   "cell_type": "code",
   "execution_count": 23,
   "metadata": {},
   "outputs": [],
   "source": [
    "# Load data from csv file\n",
    "ats_data = np.genfromtxt(\n",
    "    fname ='mydata.csv', delimiter= ',', dtype= float)"
   ]
  },
  {
   "cell_type": "code",
   "execution_count": 24,
   "metadata": {},
   "outputs": [
    {
     "data": {
      "text/plain": [
       "array([[  nan,   nan,   nan, ...,   nan,   nan,   nan],\n",
       "       [  46.,   40.,  119., ...,   31.,  131.,  142.],\n",
       "       [  47.,   37.,  119., ...,   29.,  133.,  143.],\n",
       "       ..., \n",
       "       [  68.,   75.,  108., ...,  100.,  104.,   85.],\n",
       "       [  71.,   87.,  108., ...,   91.,  104.,   85.],\n",
       "       [  71.,   91.,  100., ...,   91.,  100.,   81.]])"
      ]
     },
     "execution_count": 24,
     "metadata": {},
     "output_type": "execute_result"
    }
   ],
   "source": [
    "ats_data"
   ]
  },
  {
   "cell_type": "code",
   "execution_count": 25,
   "metadata": {},
   "outputs": [],
   "source": [
    "ats_data = np.delete(arr = ats_data, obj=0, axis = 0)"
   ]
  },
  {
   "cell_type": "code",
   "execution_count": 26,
   "metadata": {},
   "outputs": [
    {
     "data": {
      "text/plain": [
       "array([[  46.,   40.,  119., ...,   31.,  131.,  142.],\n",
       "       [  47.,   37.,  119., ...,   29.,  133.,  143.],\n",
       "       [  80.,   95.,  100., ...,   83.,   96.,   74.],\n",
       "       ..., \n",
       "       [  68.,   75.,  108., ...,  100.,  104.,   85.],\n",
       "       [  71.,   87.,  108., ...,   91.,  104.,   85.],\n",
       "       [  71.,   91.,  100., ...,   91.,  100.,   81.]])"
      ]
     },
     "execution_count": 26,
     "metadata": {},
     "output_type": "execute_result"
    }
   ],
   "source": [
    "ats_data"
   ]
  },
  {
   "cell_type": "code",
   "execution_count": 27,
   "metadata": {},
   "outputs": [
    {
     "data": {
      "text/plain": [
       "(10, 36)"
      ]
     },
     "execution_count": 27,
     "metadata": {},
     "output_type": "execute_result"
    }
   ],
   "source": [
    "kmeans = KMeans(n_clusters=10, random_state=0)\n",
    "clusters = kmeans.fit_predict(ats_data)\n",
    "kmeans.cluster_centers_.shape"
   ]
  },
  {
   "cell_type": "code",
   "execution_count": 41,
   "metadata": {},
   "outputs": [
    {
     "data": {
      "text/plain": [
       "(10, 36)"
      ]
     },
     "execution_count": 41,
     "metadata": {},
     "output_type": "execute_result"
    }
   ],
   "source": [
    "kmeans.cluster_centers_.shape"
   ]
  },
  {
   "cell_type": "code",
   "execution_count": 49,
   "metadata": {},
   "outputs": [
    {
     "data": {
      "image/png": "[encoded data removed]",
      "text/plain": [
       "<matplotlib.figure.Figure at 0x10ae239b0>"
      ]
     },
     "metadata": {},
     "output_type": "display_data"
    }
   ],
   "source": [
    "fig, ax = plt.subplots(2, 5, figsize=(8, 3))\n",
    "centers = kmeans.cluster_centers_.reshape(10, 6, 6)\n",
    "for axi, center in zip(ax.flat, centers):\n",
    "    axi.set(xticks=[], yticks=[])\n",
    "    axi.imshow(center, interpolation='nearest', cmap=plt.cm.binary)"
   ]
  },
  {
   "cell_type": "code",
   "execution_count": 50,
   "metadata": {},
   "outputs": [],
   "source": [
    "def dim_red_pca(X, d=0, corr=False):\n",
    "    r\"\"\"\n",
    "    Performs principal component analysis.\n",
    "\n",
    "    Parameters\n",
    "    ----------\n",
    "    X : array, (n, d)\n",
    "        Original observations (n observations, d features)\n",
    "\n",
    "    d : int\n",
    "        Number of principal components (default is ``0`` => all components).\n",
    "\n",
    "    corr : bool\n",
    "        If true, the PCA is performed based on the correlation matrix.\n",
    "\n",
    "    Notes\n",
    "    -----\n",
    "    Always all eigenvalues and eigenvectors are returned,\n",
    "    independently of the desired number of components ``d``.\n",
    "\n",
    "    Returns\n",
    "    -------\n",
    "    Xred : array, (n, m or d)\n",
    "        Reduced data matrix\n",
    "\n",
    "    e_values : array, (m)\n",
    "        The eigenvalues, sorted in descending manner.\n",
    "\n",
    "    e_vectors : array, (n, m)\n",
    "        The eigenvectors, sorted corresponding to eigenvalues.\n",
    "\n",
    "    \"\"\"\n",
    "    # Center to average\n",
    "    X_ = X-X.mean(0)\n",
    "    # Compute correlation / covarianz matrix\n",
    "    if corr:\n",
    "        CO = np.corrcoef(X_.T)\n",
    "    else:\n",
    "        CO = np.cov(X_.T)\n",
    "    # Compute eigenvalues and eigenvectors\n",
    "    e_values, e_vectors = sp.linalg.eigh(CO)\n",
    "\n",
    "    # Sort the eigenvalues and the eigenvectors descending\n",
    "    idx = np.argsort(e_values)[::-1]\n",
    "    e_vectors = e_vectors[:, idx]\n",
    "    e_values = e_values[idx]\n",
    "    # Get the number of desired dimensions\n",
    "    d_e_vecs = e_vectors\n",
    "    if d > 0:\n",
    "        d_e_vecs = e_vectors[:, :d]\n",
    "    else:\n",
    "        d = None\n",
    "    # Map principal components to original data\n",
    "    LIN = np.dot(d_e_vecs, np.dot(d_e_vecs.T, X_.T)).T\n",
    "    return LIN[:, :d], e_values, e_vectors"
   ]
  },
  {
   "cell_type": "code",
   "execution_count": 53,
   "metadata": {},
   "outputs": [
    {
     "data": {
      "text/plain": [
       "array([[  46.,   40.,  119., ...,   31.,  131.,  142.],\n",
       "       [  47.,   37.,  119., ...,   29.,  133.,  143.],\n",
       "       [  80.,   95.,  100., ...,   83.,   96.,   74.],\n",
       "       ..., \n",
       "       [  68.,   75.,  108., ...,  100.,  104.,   85.],\n",
       "       [  71.,   87.,  108., ...,   91.,  104.,   85.],\n",
       "       [  71.,   91.,  100., ...,   91.,  100.,   81.]])"
      ]
     },
     "execution_count": 53,
     "metadata": {},
     "output_type": "execute_result"
    }
   ],
   "source": [
    "ats_data"
   ]
  },
  {
   "cell_type": "code",
   "execution_count": 61,
   "metadata": {},
   "outputs": [
    {
     "data": {
      "text/plain": [
       "[<matplotlib.text.Text at 0x10cf15978>, <matplotlib.text.Text at 0x10cf0b6d8>]"
      ]
     },
     "execution_count": 61,
     "metadata": {},
     "output_type": "execute_result"
    },
    {
     "data": {
      "image/png": "[encoded data removed]",
      "text/plain": [
       "<matplotlib.figure.Figure at 0x10b954a20>"
      ]
     },
     "metadata": {},
     "output_type": "display_data"
    },
    {
     "data": {
      "image/png": "[encoded data removed]",
      "text/plain": [
       "<matplotlib.figure.Figure at 0x10b864978>"
      ]
     },
     "metadata": {},
     "output_type": "display_data"
    }
   ],
   "source": [
    "import numpy as np\n",
    "import scipy as sp\n",
    "from scipy.cluster.vq import kmeans2\n",
    "import matplotlib.pyplot as plt\n",
    "\n",
    "SN = ats_data\n",
    "'''np.array([ [1.325, 1.000, 1.825, 1.750],\n",
    "                [2.000, 1.250, 2.675, 1.750],\n",
    "                [3.000, 3.250, 3.000, 2.750],\n",
    "                [1.075, 2.000, 1.675, 1.000],\n",
    "                [3.425, 2.000, 3.250, 2.750],\n",
    "                [1.900, 2.000, 2.400, 2.750],\n",
    "                [3.325, 2.500, 3.000, 2.000],\n",
    "                [3.000, 2.750, 3.075, 2.250],\n",
    "                [2.075, 1.250, 2.000, 2.250],\n",
    "                [2.500, 3.250, 3.075, 2.250],\n",
    "                [1.675, 2.500, 2.675, 1.250],\n",
    "                [2.075, 1.750, 1.900, 1.500],\n",
    "                [1.750, 2.000, 1.150, 1.250],\n",
    "                [2.500, 2.250, 2.425, 2.500],\n",
    "                [1.675, 2.750, 2.000, 1.250],\n",
    "                [3.675, 3.000, 3.325, 2.500],\n",
    "                [1.250, 1.500, 1.150, 1.000]], dtype=float)\n",
    "'''\n",
    "clust,labels_ = kmeans2(SN,3)    # cluster with 3 random initial clusters\n",
    "# PCA on orig. dataset \n",
    "# Xred will have only 2 columns, the first two princ. comps.\n",
    "# evals has shape (4,) and evecs (4,4). We need all eigenvalues \n",
    "# to determine the portion of variance\n",
    "Xred, evals, evecs = dim_red_pca(SN,2)   \n",
    "\n",
    "xlab = '1. PC - ExpVar = {:.2f} %'.format(evals[0]/sum(evals)*100) # determine variance portion\n",
    "ylab = '2. PC - ExpVar = {:.2f} %'.format(evals[1]/sum(evals)*100)\n",
    "# plot the clusters, each set separately\n",
    "plt.figure()    \n",
    "ax = plt.gca()\n",
    "scatterHs = []\n",
    "clr = ['r', 'b', 'k']\n",
    "for cluster in set(labels_):\n",
    "    scatterHs.append(ax.scatter(Xred[labels_ == cluster, 0], Xred[labels_ == cluster, 1], \n",
    "                   color=clr[cluster], label='Cluster {}'.format(cluster)))\n",
    "plt.legend(handles=scatterHs,loc=4)\n",
    "plt.setp(ax, title='First and Second Principle Components', xlabel=xlab, ylabel=ylab)\n",
    "# plot also the eigenvectors for deriving the influence of each feature\n",
    "fig, ax = plt.subplots(2,1)\n",
    "ax[0].bar(feat,evecs[0])\n",
    "plt.setp(ax[0], title=\"First and Second Component's Eigenvectors \", ylabel='Weight')\n",
    "ax[1].bar(feat,evecs[1])\n",
    "plt.setp(ax[1], xlabel='Features', ylabel='Weight')"
   ]
  },
  {
   "cell_type": "code",
   "execution_count": 64,
   "metadata": {},
   "outputs": [],
   "source": [
    "# Let's just have a look at cluster zero, the red one. We'll be mostly interested in the \n",
    "# first component as it explains about 3/4 of the distribution. The red cluster is in \n",
    "# the upper area of the first component. All observations yield rather high values. \n",
    "# What does it mean? Now looking at the linear combination of the first component we see \n",
    "# on first sight, that the second feature is rather unimportant (for this component). \n",
    "# The first and fourth feature are the highest weighted and the third one has a negative \n",
    "# score. This means, that - as all red vertices have a rather high score on the first \n",
    "# PC - these vertices will have high values in the first and last feature, while at the \n",
    "# same time they have low scores concerning the third feature.\n",
    "\n",
    "# Concerning the second feature we can have a look at the second PC. However, note that \n",
    "# the overall impact is far smaller as this component explains only roughly 16 % of \n",
    "# the variance compared to the ~74 % of the first PC."
   ]
  },
  {
   "cell_type": "code",
   "execution_count": 56,
   "metadata": {},
   "outputs": [],
   "source": [
    "feat = np.array(range(0,36))"
   ]
  },
  {
   "cell_type": "code",
   "execution_count": 57,
   "metadata": {},
   "outputs": [
    {
     "data": {
      "text/plain": [
       "array([ 0,  1,  2,  3,  4,  5,  6,  7,  8,  9, 10, 11, 12, 13, 14, 15, 16,\n",
       "       17, 18, 19, 20, 21, 22, 23, 24, 25, 26, 27, 28, 29, 30, 31, 32, 33,\n",
       "       34, 35])"
      ]
     },
     "execution_count": 57,
     "metadata": {},
     "output_type": "execute_result"
    }
   ],
   "source": [
    "feat"
   ]
  },
  {
   "cell_type": "code",
   "execution_count": 63,
   "metadata": {},
   "outputs": [
    {
     "ename": "NameError",
     "evalue": "name 'X' is not defined",
     "output_type": "error",
     "traceback": [
      "\u001b[0;31m---------------------------------------------------------------------------\u001b[0m",
      "\u001b[0;31mNameError\u001b[0m                                 Traceback (most recent call last)",
      "\u001b[0;32m<ipython-input-63-b0c3a5e42972>\u001b[0m in \u001b[0;36m<module>\u001b[0;34m()\u001b[0m\n\u001b[1;32m      1\u001b[0m \u001b[0mestimator\u001b[0m\u001b[0;34m=\u001b[0m\u001b[0mKMeans\u001b[0m\u001b[0;34m(\u001b[0m\u001b[0;34m)\u001b[0m\u001b[0;34m\u001b[0m\u001b[0m\n\u001b[0;32m----> 2\u001b[0;31m \u001b[0mestimator\u001b[0m\u001b[0;34m.\u001b[0m\u001b[0mfit\u001b[0m\u001b[0;34m(\u001b[0m\u001b[0mX\u001b[0m\u001b[0;34m)\u001b[0m\u001b[0;34m\u001b[0m\u001b[0m\n\u001b[0m\u001b[1;32m      3\u001b[0m \u001b[0mres\u001b[0m\u001b[0;34m=\u001b[0m\u001b[0mestimator\u001b[0m\u001b[0;34m.\u001b[0m\u001b[0m__dict__\u001b[0m\u001b[0;34m\u001b[0m\u001b[0m\n\u001b[1;32m      4\u001b[0m \u001b[0mprint\u001b[0m \u001b[0;34m(\u001b[0m\u001b[0;34m'res => {}'\u001b[0m\u001b[0;34m.\u001b[0m\u001b[0mformat\u001b[0m\u001b[0;34m(\u001b[0m\u001b[0mres\u001b[0m\u001b[0;34m[\u001b[0m\u001b[0;34m'cluster_centers_'\u001b[0m\u001b[0;34m]\u001b[0m\u001b[0;34m)\u001b[0m\u001b[0;34m)\u001b[0m\u001b[0;34m\u001b[0m\u001b[0m\n",
      "\u001b[0;31mNameError\u001b[0m: name 'X' is not defined"
     ]
    }
   ],
   "source": [
    "estimator=KMeans()\n",
    "estimator.fit(X)\n",
    "res=estimator.__dict__\n",
    "print ('res => {}'.format(res['cluster_centers_']))"
   ]
  },
  {
   "cell_type": "code",
   "execution_count": null,
   "metadata": {},
   "outputs": [],
   "source": []
  }
 ],
 "metadata": {
  "kernelspec": {
   "display_name": "Python 3",
   "language": "python",
   "name": "python3"
  },
  "language_info": {
   "codemirror_mode": {
    "name": "ipython",
    "version": 3
   },
   "file_extension": ".py",
   "mimetype": "text/x-python",
   "name": "python",
   "nbconvert_exporter": "python",
   "pygments_lexer": "ipython3",
   "version": "3.4.4"
  }
 },
 "nbformat": 4,
 "nbformat_minor": 2
}
