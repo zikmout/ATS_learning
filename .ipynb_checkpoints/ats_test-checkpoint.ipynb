{
 "cells": [
  {
   "cell_type": "markdown",
   "metadata": {},
   "source": [
    "# <font color='green'>NEW: Trying KNN</font>"
   ]
  },
  {
   "cell_type": "code",
   "execution_count": 52,
   "metadata": {},
   "outputs": [],
   "source": [
    "# Implementation: Creating Clusters"
   ]
  },
  {
   "cell_type": "code",
   "execution_count": 53,
   "metadata": {},
   "outputs": [],
   "source": [
    "import numpy as np\n",
    "from sklearn.preprocessing import Imputer\n",
    "from sklearn.cross_validation import train_test_split\n",
    "from sklearn.neighbors import KNeighborsClassifier\n",
    "from sklearn.metrics import accuracy_score"
   ]
  },
  {
   "cell_type": "code",
   "execution_count": 54,
   "metadata": {},
   "outputs": [],
   "source": [
    "# Load data from csv file\n",
    "ats_data = np.genfromtxt(\n",
    "    fname ='mydata.csv', delimiter= ',', dtype= float)"
   ]
  },
  {
   "cell_type": "code",
   "execution_count": 55,
   "metadata": {},
   "outputs": [
    {
     "data": {
      "text/plain": [
       "array([[  nan,   nan,   nan, ...,   nan,   nan,   nan],\n",
       "       [  46.,   40.,  119., ...,   31.,  131.,  142.],\n",
       "       [  47.,   37.,  119., ...,   29.,  133.,  143.],\n",
       "       ..., \n",
       "       [  68.,   75.,  108., ...,  100.,  104.,   85.],\n",
       "       [  71.,   87.,  108., ...,   91.,  104.,   85.],\n",
       "       [  71.,   91.,  100., ...,   91.,  100.,   81.]])"
      ]
     },
     "execution_count": 55,
     "metadata": {},
     "output_type": "execute_result"
    }
   ],
   "source": [
    "ats_data"
   ]
  },
  {
   "cell_type": "code",
   "execution_count": 56,
   "metadata": {},
   "outputs": [],
   "source": [
    "ats_data = np.delete(arr = ats_data, obj=0, axis = 0)"
   ]
  },
  {
   "cell_type": "code",
   "execution_count": 57,
   "metadata": {},
   "outputs": [
    {
     "data": {
      "text/plain": [
       "array([[  46.,   40.,  119., ...,   31.,  131.,  142.],\n",
       "       [  47.,   37.,  119., ...,   29.,  133.,  143.],\n",
       "       [  80.,   95.,  100., ...,   83.,   96.,   74.],\n",
       "       ..., \n",
       "       [  68.,   75.,  108., ...,  100.,  104.,   85.],\n",
       "       [  71.,   87.,  108., ...,   91.,  104.,   85.],\n",
       "       [  71.,   91.,  100., ...,   91.,  100.,   81.]])"
      ]
     },
     "execution_count": 57,
     "metadata": {},
     "output_type": "execute_result"
    }
   ],
   "source": [
    "ats_data"
   ]
  },
  {
   "cell_type": "code",
   "execution_count": 58,
   "metadata": {},
   "outputs": [
    {
     "data": {
      "text/plain": [
       "(5100, 36)"
      ]
     },
     "execution_count": 58,
     "metadata": {},
     "output_type": "execute_result"
    }
   ],
   "source": [
    "ats_data.shape"
   ]
  },
  {
   "cell_type": "code",
   "execution_count": 59,
   "metadata": {},
   "outputs": [],
   "source": [
    "z = np.zeros((5100,1), dtype=float)"
   ]
  },
  {
   "cell_type": "code",
   "execution_count": 60,
   "metadata": {},
   "outputs": [],
   "source": [
    "ats_data = np.append(ats_data, z, axis=1)"
   ]
  },
  {
   "cell_type": "code",
   "execution_count": 61,
   "metadata": {},
   "outputs": [
    {
     "data": {
      "text/plain": [
       "array([[  46.,   40.,  119., ...,  131.,  142.,    0.],\n",
       "       [  47.,   37.,  119., ...,  133.,  143.,    0.],\n",
       "       [  80.,   95.,  100., ...,   96.,   74.,    0.],\n",
       "       ..., \n",
       "       [  68.,   75.,  108., ...,  104.,   85.,    0.],\n",
       "       [  71.,   87.,  108., ...,  104.,   85.,    0.],\n",
       "       [  71.,   91.,  100., ...,  100.,   81.,    0.]])"
      ]
     },
     "execution_count": 61,
     "metadata": {},
     "output_type": "execute_result"
    }
   ],
   "source": [
    "ats_data"
   ]
  },
  {
   "cell_type": "code",
   "execution_count": 62,
   "metadata": {},
   "outputs": [
    {
     "data": {
      "text/plain": [
       "(5100, 37)"
      ]
     },
     "execution_count": 62,
     "metadata": {},
     "output_type": "execute_result"
    }
   ],
   "source": [
    "ats_data.shape"
   ]
  },
  {
   "cell_type": "code",
   "execution_count": 63,
   "metadata": {},
   "outputs": [],
   "source": [
    "# A New column has just been created in order to put the class (0 => non outlier / 1 => outlier)"
   ]
  },
  {
   "cell_type": "code",
   "execution_count": 64,
   "metadata": {},
   "outputs": [],
   "source": [
    "X = ats_data[:, range(0,36)]"
   ]
  },
  {
   "cell_type": "code",
   "execution_count": 65,
   "metadata": {},
   "outputs": [
    {
     "data": {
      "text/plain": [
       "array([[  46.,   40.,  119., ...,   31.,  131.,  142.],\n",
       "       [  47.,   37.,  119., ...,   29.,  133.,  143.],\n",
       "       [  80.,   95.,  100., ...,   83.,   96.,   74.],\n",
       "       ..., \n",
       "       [  68.,   75.,  108., ...,  100.,  104.,   85.],\n",
       "       [  71.,   87.,  108., ...,   91.,  104.,   85.],\n",
       "       [  71.,   91.,  100., ...,   91.,  100.,   81.]])"
      ]
     },
     "execution_count": 65,
     "metadata": {},
     "output_type": "execute_result"
    }
   ],
   "source": [
    "X"
   ]
  },
  {
   "cell_type": "code",
   "execution_count": 66,
   "metadata": {},
   "outputs": [],
   "source": [
    "Y = ats_data[:, 36]"
   ]
  },
  {
   "cell_type": "code",
   "execution_count": 67,
   "metadata": {},
   "outputs": [
    {
     "data": {
      "text/plain": [
       "array([ 0.,  0.,  0., ...,  0.,  0.,  0.])"
      ]
     },
     "execution_count": 67,
     "metadata": {},
     "output_type": "execute_result"
    }
   ],
   "source": [
    "Y"
   ]
  },
  {
   "cell_type": "code",
   "execution_count": 68,
   "metadata": {},
   "outputs": [],
   "source": [
    "# Now we divide the data so we can have a train_data and test_data"
   ]
  },
  {
   "cell_type": "code",
   "execution_count": 69,
   "metadata": {},
   "outputs": [],
   "source": [
    "X_train, X_test, y_train, y_test = train_test_split(\n",
    "X, Y, test_size = 0.3, random_state = 100)\n",
    "y_train = y_train.ravel()\n",
    "Y_test = y_test.ravel()"
   ]
  },
  {
   "cell_type": "code",
   "execution_count": 70,
   "metadata": {},
   "outputs": [
    {
     "data": {
      "text/plain": [
       "array([ 0.,  0.,  0., ...,  0.,  0.,  0.])"
      ]
     },
     "execution_count": 70,
     "metadata": {},
     "output_type": "execute_result"
    }
   ],
   "source": [
    "y_train"
   ]
  },
  {
   "cell_type": "code",
   "execution_count": 71,
   "metadata": {},
   "outputs": [
    {
     "name": "stdout",
     "output_type": "stream",
     "text": [
      "Accuracy is 100.0 for K-Value: 1\n",
      "Accuracy is 100.0 for K-Value: 2\n",
      "Accuracy is 100.0 for K-Value: 3\n",
      "Accuracy is 100.0 for K-Value: 4\n",
      "Accuracy is 100.0 for K-Value: 5\n",
      "Accuracy is 100.0 for K-Value: 6\n",
      "Accuracy is 100.0 for K-Value: 7\n",
      "Accuracy is 100.0 for K-Value: 8\n",
      "Accuracy is 100.0 for K-Value: 9\n",
      "Accuracy is 100.0 for K-Value: 10\n",
      "Accuracy is 100.0 for K-Value: 11\n",
      "Accuracy is 100.0 for K-Value: 12\n",
      "Accuracy is 100.0 for K-Value: 13\n",
      "Accuracy is 100.0 for K-Value: 14\n",
      "Accuracy is 100.0 for K-Value: 15\n",
      "Accuracy is 100.0 for K-Value: 16\n",
      "Accuracy is 100.0 for K-Value: 17\n",
      "Accuracy is 100.0 for K-Value: 18\n",
      "Accuracy is 100.0 for K-Value: 19\n",
      "Accuracy is 100.0 for K-Value: 20\n",
      "Accuracy is 100.0 for K-Value: 21\n",
      "Accuracy is 100.0 for K-Value: 22\n",
      "Accuracy is 100.0 for K-Value: 23\n",
      "Accuracy is 100.0 for K-Value: 24\n",
      "Accuracy is 100.0 for K-Value: 25\n"
     ]
    }
   ],
   "source": [
    "for K in range(25):\n",
    "    K_value = K+1\n",
    "    neigh = KNeighborsClassifier(n_neighbors = K_value, weights='uniform', algorithm='auto')\n",
    "    neigh.fit(X_train, y_train) \n",
    "    y_pred = neigh.predict(X_test)\n",
    "    print (\"Accuracy is {} for K-Value: {}\".format(accuracy_score(y_test,y_pred)*100,K_value))"
   ]
  },
  {
   "cell_type": "code",
   "execution_count": null,
   "metadata": {},
   "outputs": [],
   "source": []
  },
  {
   "cell_type": "code",
   "execution_count": 72,
   "metadata": {},
   "outputs": [],
   "source": [
    "# KNN is for supervised, not unsupervised, let's try K-means instead"
   ]
  },
  {
   "cell_type": "code",
   "execution_count": null,
   "metadata": {},
   "outputs": [],
   "source": []
  },
  {
   "cell_type": "code",
   "execution_count": null,
   "metadata": {},
   "outputs": [],
   "source": []
  }
 ],
 "metadata": {
  "kernelspec": {
   "display_name": "Python 3",
   "language": "python",
   "name": "python3"
  },
  "language_info": {
   "codemirror_mode": {
    "name": "ipython",
    "version": 3
   },
   "file_extension": ".py",
   "mimetype": "text/x-python",
   "name": "python",
   "nbconvert_exporter": "python",
   "pygments_lexer": "ipython3",
   "version": "3.4.4"
  }
 },
 "nbformat": 4,
 "nbformat_minor": 2
}
