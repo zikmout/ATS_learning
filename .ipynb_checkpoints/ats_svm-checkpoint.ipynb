{
 "cells": [
  {
   "cell_type": "markdown",
   "metadata": {},
   "source": [
    "# <font color='green'>NEW: Trying SVM</font>"
   ]
  },
  {
   "cell_type": "code",
   "execution_count": 5,
   "metadata": {},
   "outputs": [],
   "source": [
    "%matplotlib inline\n",
    "import numpy as np\n",
    "import pandas as pd\n",
    "from sklearn import utils\n",
    "import matplotlib\n",
    "import matplotlib.pyplot as plt"
   ]
  },
  {
   "cell_type": "code",
   "execution_count": 6,
   "metadata": {},
   "outputs": [],
   "source": [
    "data = pd.read_csv('mydata.csv', low_memory=False)"
   ]
  },
  {
   "cell_type": "code",
   "execution_count": 7,
   "metadata": {},
   "outputs": [
    {
     "data": {
      "text/html": [
       "<div>\n",
       "<style>\n",
       "    .dataframe thead tr:only-child th {\n",
       "        text-align: right;\n",
       "    }\n",
       "\n",
       "    .dataframe thead th {\n",
       "        text-align: left;\n",
       "    }\n",
       "\n",
       "    .dataframe tbody tr th {\n",
       "        vertical-align: top;\n",
       "    }\n",
       "</style>\n",
       "<table border=\"1\" class=\"dataframe\">\n",
       "  <thead>\n",
       "    <tr style=\"text-align: right;\">\n",
       "      <th></th>\n",
       "      <th>V1</th>\n",
       "      <th>V2</th>\n",
       "      <th>V3</th>\n",
       "      <th>V4</th>\n",
       "      <th>V5</th>\n",
       "      <th>V6</th>\n",
       "      <th>V7</th>\n",
       "      <th>V8</th>\n",
       "      <th>V9</th>\n",
       "      <th>V10</th>\n",
       "      <th>...</th>\n",
       "      <th>V27</th>\n",
       "      <th>V28</th>\n",
       "      <th>V29</th>\n",
       "      <th>V30</th>\n",
       "      <th>V31</th>\n",
       "      <th>V32</th>\n",
       "      <th>V33</th>\n",
       "      <th>V34</th>\n",
       "      <th>V35</th>\n",
       "      <th>V36</th>\n",
       "    </tr>\n",
       "  </thead>\n",
       "  <tbody>\n",
       "    <tr>\n",
       "      <th>0</th>\n",
       "      <td>46</td>\n",
       "      <td>40</td>\n",
       "      <td>119</td>\n",
       "      <td>139</td>\n",
       "      <td>42</td>\n",
       "      <td>30</td>\n",
       "      <td>135</td>\n",
       "      <td>157</td>\n",
       "      <td>42</td>\n",
       "      <td>30</td>\n",
       "      <td>...</td>\n",
       "      <td>115</td>\n",
       "      <td>113</td>\n",
       "      <td>50</td>\n",
       "      <td>46</td>\n",
       "      <td>111</td>\n",
       "      <td>116</td>\n",
       "      <td>44</td>\n",
       "      <td>31</td>\n",
       "      <td>131</td>\n",
       "      <td>142</td>\n",
       "    </tr>\n",
       "    <tr>\n",
       "      <th>1</th>\n",
       "      <td>47</td>\n",
       "      <td>37</td>\n",
       "      <td>119</td>\n",
       "      <td>133</td>\n",
       "      <td>44</td>\n",
       "      <td>34</td>\n",
       "      <td>124</td>\n",
       "      <td>143</td>\n",
       "      <td>44</td>\n",
       "      <td>34</td>\n",
       "      <td>...</td>\n",
       "      <td>100</td>\n",
       "      <td>85</td>\n",
       "      <td>50</td>\n",
       "      <td>39</td>\n",
       "      <td>118</td>\n",
       "      <td>132</td>\n",
       "      <td>43</td>\n",
       "      <td>29</td>\n",
       "      <td>133</td>\n",
       "      <td>143</td>\n",
       "    </tr>\n",
       "    <tr>\n",
       "      <th>2</th>\n",
       "      <td>80</td>\n",
       "      <td>95</td>\n",
       "      <td>100</td>\n",
       "      <td>74</td>\n",
       "      <td>64</td>\n",
       "      <td>64</td>\n",
       "      <td>104</td>\n",
       "      <td>96</td>\n",
       "      <td>46</td>\n",
       "      <td>36</td>\n",
       "      <td>...</td>\n",
       "      <td>100</td>\n",
       "      <td>81</td>\n",
       "      <td>82</td>\n",
       "      <td>91</td>\n",
       "      <td>92</td>\n",
       "      <td>78</td>\n",
       "      <td>78</td>\n",
       "      <td>83</td>\n",
       "      <td>96</td>\n",
       "      <td>74</td>\n",
       "    </tr>\n",
       "    <tr>\n",
       "      <th>3</th>\n",
       "      <td>56</td>\n",
       "      <td>51</td>\n",
       "      <td>72</td>\n",
       "      <td>60</td>\n",
       "      <td>59</td>\n",
       "      <td>54</td>\n",
       "      <td>72</td>\n",
       "      <td>60</td>\n",
       "      <td>59</td>\n",
       "      <td>51</td>\n",
       "      <td>...</td>\n",
       "      <td>71</td>\n",
       "      <td>50</td>\n",
       "      <td>57</td>\n",
       "      <td>55</td>\n",
       "      <td>74</td>\n",
       "      <td>61</td>\n",
       "      <td>57</td>\n",
       "      <td>55</td>\n",
       "      <td>78</td>\n",
       "      <td>65</td>\n",
       "    </tr>\n",
       "    <tr>\n",
       "      <th>4</th>\n",
       "      <td>44</td>\n",
       "      <td>34</td>\n",
       "      <td>129</td>\n",
       "      <td>140</td>\n",
       "      <td>44</td>\n",
       "      <td>34</td>\n",
       "      <td>124</td>\n",
       "      <td>136</td>\n",
       "      <td>44</td>\n",
       "      <td>34</td>\n",
       "      <td>...</td>\n",
       "      <td>133</td>\n",
       "      <td>139</td>\n",
       "      <td>43</td>\n",
       "      <td>31</td>\n",
       "      <td>128</td>\n",
       "      <td>135</td>\n",
       "      <td>43</td>\n",
       "      <td>29</td>\n",
       "      <td>128</td>\n",
       "      <td>132</td>\n",
       "    </tr>\n",
       "  </tbody>\n",
       "</table>\n",
       "<p>5 rows × 36 columns</p>\n",
       "</div>"
      ],
      "text/plain": [
       "   V1  V2   V3   V4  V5  V6   V7   V8  V9  V10 ...   V27  V28  V29  V30  V31  \\\n",
       "0  46  40  119  139  42  30  135  157  42   30 ...   115  113   50   46  111   \n",
       "1  47  37  119  133  44  34  124  143  44   34 ...   100   85   50   39  118   \n",
       "2  80  95  100   74  64  64  104   96  46   36 ...   100   81   82   91   92   \n",
       "3  56  51   72   60  59  54   72   60  59   51 ...    71   50   57   55   74   \n",
       "4  44  34  129  140  44  34  124  136  44   34 ...   133  139   43   31  128   \n",
       "\n",
       "   V32  V33  V34  V35  V36  \n",
       "0  116   44   31  131  142  \n",
       "1  132   43   29  133  143  \n",
       "2   78   78   83   96   74  \n",
       "3   61   57   55   78   65  \n",
       "4  135   43   29  128  132  \n",
       "\n",
       "[5 rows x 36 columns]"
      ]
     },
     "execution_count": 7,
     "metadata": {},
     "output_type": "execute_result"
    }
   ],
   "source": [
    "data.head()"
   ]
  },
  {
   "cell_type": "code",
   "execution_count": 8,
   "metadata": {},
   "outputs": [],
   "source": [
    "relevant_features = [\"V1\",\"V2\",\"V3\",\"V4\",\"V5\",\"V6\",\"V7\",\"V8\",\"V9\",\"V10\",\"V11\",\"V12\",\"V13\",\"V14\",\"V15\",\"V16\",\"V17\",\"V18\",\"V19\",\"V20\",\"V21\",\"V22\",\"V23\",\"V24\",\"V25\",\"V26\",\"V27\",\"V28\",\"V29\",\"V30\",\"V31\",\"V32\",\"V33\",\"V34\",\"V35\",\"V36\"]"
   ]
  },
  {
   "cell_type": "code",
   "execution_count": 9,
   "metadata": {},
   "outputs": [],
   "source": [
    "data = data[relevant_features]"
   ]
  },
  {
   "cell_type": "code",
   "execution_count": 10,
   "metadata": {},
   "outputs": [],
   "source": [
    "# Normalizing features (reduce numerical instability and improve accuracy)\n",
    "for i in range(0, len(relevant_features)):\n",
    "    data[relevant_features[i]] = np.log((data[relevant_features[i]] + 0.1).astype(float))\n",
    "    #print('col -> {}'.format(relevant_features[i]))"
   ]
  },
  {
   "cell_type": "code",
   "execution_count": 11,
   "metadata": {},
   "outputs": [
    {
     "data": {
      "text/plain": [
       "(5100, 36)"
      ]
     },
     "execution_count": 11,
     "metadata": {},
     "output_type": "execute_result"
    }
   ],
   "source": [
    "data.shape"
   ]
  },
  {
   "cell_type": "code",
   "execution_count": 12,
   "metadata": {},
   "outputs": [],
   "source": [
    "# Now adding one more column to put the class (outlier = 1 / non_outlier = 0)\n",
    "z = np.zeros((5100, 1), dtype=float)\n",
    "data = np.append(data, z, axis=1)"
   ]
  },
  {
   "cell_type": "code",
   "execution_count": 13,
   "metadata": {},
   "outputs": [],
   "source": [
    "relevant_features = [\"V1\",\"V2\",\"V3\",\"V4\",\"V5\",\"V6\",\"V7\",\"V8\",\"V9\",\"V10\",\"V11\",\"V12\",\"V13\",\"V14\",\"V15\",\"V16\",\"V17\",\"V18\",\"V19\",\"V20\",\"V21\",\"V22\",\"V23\",\"V24\",\"V25\",\"V26\",\"V27\",\"V28\",\"V29\",\"V30\",\"V31\",\"V32\",\"V33\",\"V34\",\"V35\",\"V36\", \"class\"]"
   ]
  },
  {
   "cell_type": "code",
   "execution_count": 14,
   "metadata": {},
   "outputs": [],
   "source": [
    "df = pd.DataFrame(data, columns=relevant_features)"
   ]
  },
  {
   "cell_type": "code",
   "execution_count": 15,
   "metadata": {},
   "outputs": [
    {
     "data": {
      "text/plain": [
       "(5100, 37)"
      ]
     },
     "execution_count": 15,
     "metadata": {},
     "output_type": "execute_result"
    }
   ],
   "source": [
    "df.shape"
   ]
  },
  {
   "cell_type": "code",
   "execution_count": 16,
   "metadata": {},
   "outputs": [],
   "source": [
    "#df.drop(relevant_features, axis=1, inplace=True)"
   ]
  },
  {
   "cell_type": "code",
   "execution_count": 17,
   "metadata": {},
   "outputs": [],
   "source": [
    "target = df['class']"
   ]
  },
  {
   "cell_type": "code",
   "execution_count": 18,
   "metadata": {},
   "outputs": [
    {
     "name": "stderr",
     "output_type": "stream",
     "text": [
      "/Users/ssicard/Library/Python/3.4/lib/python/site-packages/sklearn/model_selection/_split.py:2010: FutureWarning: From version 0.21, test_size will always complement train_size unless both are specified.\n",
      "  FutureWarning)\n"
     ]
    },
    {
     "data": {
      "text/plain": [
       "(4080, 37)"
      ]
     },
     "execution_count": 18,
     "metadata": {},
     "output_type": "execute_result"
    }
   ],
   "source": [
    "from sklearn.model_selection import train_test_split  \n",
    "train_data, test_data, train_target, test_target = train_test_split(data, target, train_size = 0.8)  \n",
    "train_data.shape  "
   ]
  },
  {
   "cell_type": "code",
   "execution_count": 31,
   "metadata": {},
   "outputs": [
    {
     "data": {
      "text/plain": [
       "OneClassSVM(cache_size=200, coef0=0.0, degree=3, gamma=0.1, kernel='linear',\n",
       "      max_iter=-1, nu=0.1, random_state=None, shrinking=True, tol=0.001,\n",
       "      verbose=False)"
      ]
     },
     "execution_count": 31,
     "metadata": {},
     "output_type": "execute_result"
    }
   ],
   "source": [
    "from sklearn import svm\n",
    "#clf = svm.OneClassSVM(nu=0.1, kernel=\"rbf\", gamma=0.1)\n",
    "clf = svm.OneClassSVM(nu=0.1, kernel=\"linear\", gamma=0.1)\n",
    "clf.fit(df)"
   ]
  },
  {
   "cell_type": "code",
   "execution_count": 32,
   "metadata": {},
   "outputs": [],
   "source": [
    "res = clf.predict(df)"
   ]
  },
  {
   "cell_type": "code",
   "execution_count": 33,
   "metadata": {},
   "outputs": [
    {
     "data": {
      "text/plain": [
       "array([ 2114.1565074 ,  2154.74219803,  2211.98451369,  2096.16179744,\n",
       "        2112.62323791,  2153.98409686,  2205.2969697 ,  2089.8569128 ,\n",
       "        2114.31301478,  2158.07993498,  2205.61911279,  2089.53470733,\n",
       "        2112.53391171,  2154.3073204 ,  2203.70285103,  2086.93003573,\n",
       "        2110.83043604,  2152.36968072,  2199.92200932,  2083.51627596,\n",
       "        2112.28472316,  2155.31948533,  2202.12180648,  2086.87396112,\n",
       "        2110.11708141,  2153.72622119,  2208.03866227,  2091.70760951,\n",
       "        2109.86492619,  2154.18448845,  2205.34545495,  2089.69247015,\n",
       "        2112.05758623,  2157.97351261,  2206.92712411,  2092.1128647 ,\n",
       "           0.        ])"
      ]
     },
     "execution_count": 33,
     "metadata": {},
     "output_type": "execute_result"
    }
   ],
   "source": [
    "clf.coef_[0]"
   ]
  },
  {
   "cell_type": "code",
   "execution_count": 36,
   "metadata": {},
   "outputs": [
    {
     "data": {
      "text/plain": [
       "(5100, 37)"
      ]
     },
     "execution_count": 36,
     "metadata": {},
     "output_type": "execute_result"
    }
   ],
   "source": [
    "df.shape"
   ]
  },
  {
   "cell_type": "code",
   "execution_count": null,
   "metadata": {},
   "outputs": [],
   "source": []
  },
  {
   "cell_type": "code",
   "execution_count": 23,
   "metadata": {},
   "outputs": [],
   "source": [
    "?res"
   ]
  },
  {
   "cell_type": "code",
   "execution_count": 40,
   "metadata": {},
   "outputs": [],
   "source": [
    "res2 = list(res)"
   ]
  },
  {
   "cell_type": "code",
   "execution_count": 41,
   "metadata": {},
   "outputs": [
    {
     "data": {
      "text/plain": [
       "4589"
      ]
     },
     "execution_count": 41,
     "metadata": {},
     "output_type": "execute_result"
    }
   ],
   "source": [
    "res2.count(1)"
   ]
  },
  {
   "cell_type": "code",
   "execution_count": 42,
   "metadata": {},
   "outputs": [
    {
     "data": {
      "text/plain": [
       "511"
      ]
     },
     "execution_count": 42,
     "metadata": {},
     "output_type": "execute_result"
    }
   ],
   "source": [
    "res2.count(-1)"
   ]
  },
  {
   "cell_type": "code",
   "execution_count": 43,
   "metadata": {},
   "outputs": [
    {
     "data": {
      "text/plain": [
       "[<matplotlib.lines.Line2D at 0x10d184da0>,\n",
       " <matplotlib.lines.Line2D at 0x10d184fd0>,\n",
       " <matplotlib.lines.Line2D at 0x10d18b208>,\n",
       " <matplotlib.lines.Line2D at 0x10d18b400>,\n",
       " <matplotlib.lines.Line2D at 0x10d18b5f8>,\n",
       " <matplotlib.lines.Line2D at 0x10d18b7f0>,\n",
       " <matplotlib.lines.Line2D at 0x10d18b9e8>,\n",
       " <matplotlib.lines.Line2D at 0x10d18bbe0>,\n",
       " <matplotlib.lines.Line2D at 0x10d18bdd8>,\n",
       " <matplotlib.lines.Line2D at 0x10d18bfd0>,\n",
       " <matplotlib.lines.Line2D at 0x10d18f208>,\n",
       " <matplotlib.lines.Line2D at 0x10d18f400>,\n",
       " <matplotlib.lines.Line2D at 0x10d18f5f8>,\n",
       " <matplotlib.lines.Line2D at 0x10d18f7f0>,\n",
       " <matplotlib.lines.Line2D at 0x10d18f9e8>,\n",
       " <matplotlib.lines.Line2D at 0x10d18fbe0>,\n",
       " <matplotlib.lines.Line2D at 0x10d18fdd8>,\n",
       " <matplotlib.lines.Line2D at 0x10d18ffd0>,\n",
       " <matplotlib.lines.Line2D at 0x10d193208>,\n",
       " <matplotlib.lines.Line2D at 0x10d193400>,\n",
       " <matplotlib.lines.Line2D at 0x10d0f54a8>,\n",
       " <matplotlib.lines.Line2D at 0x10d1937f0>,\n",
       " <matplotlib.lines.Line2D at 0x10d1939e8>,\n",
       " <matplotlib.lines.Line2D at 0x10d193be0>,\n",
       " <matplotlib.lines.Line2D at 0x10d193dd8>,\n",
       " <matplotlib.lines.Line2D at 0x10d193fd0>,\n",
       " <matplotlib.lines.Line2D at 0x10d197208>,\n",
       " <matplotlib.lines.Line2D at 0x10d197400>,\n",
       " <matplotlib.lines.Line2D at 0x10d1975f8>,\n",
       " <matplotlib.lines.Line2D at 0x10d1977f0>,\n",
       " <matplotlib.lines.Line2D at 0x10d1935f8>,\n",
       " <matplotlib.lines.Line2D at 0x10d197be0>,\n",
       " <matplotlib.lines.Line2D at 0x10d197dd8>,\n",
       " <matplotlib.lines.Line2D at 0x10d197fd0>,\n",
       " <matplotlib.lines.Line2D at 0x10d19b208>,\n",
       " <matplotlib.lines.Line2D at 0x10d19b400>,\n",
       " <matplotlib.lines.Line2D at 0x10d19b5f8>]"
      ]
     },
     "execution_count": 43,
     "metadata": {},
     "output_type": "execute_result"
    },
    {
     "data": {
      "image/png": "[encoded data removed]",
      "text/plain": [
       "<matplotlib.figure.Figure at 0x10d0d7e10>"
      ]
     },
     "metadata": {},
     "output_type": "display_data"
    }
   ],
   "source": [
    "plt.plot(df)"
   ]
  },
  {
   "cell_type": "code",
   "execution_count": null,
   "metadata": {},
   "outputs": [],
   "source": []
  },
  {
   "cell_type": "code",
   "execution_count": 42,
   "metadata": {},
   "outputs": [],
   "source": [
    "#from sklearn import svm\n",
    "\n",
    "# set nu (which should be the proportion of outliers in our dataset)\n",
    "#nu = outliers.shape[0] / target.shape[0]  \n",
    "#print(\"nu\", nu)\n",
    "\n",
    "#model = svm.OneClassSVM(nu=nu, kernel='rbf', gamma=0.00005)  \n",
    "#model.fit(train_data) "
   ]
  }
 ],
 "metadata": {
  "kernelspec": {
   "display_name": "Python 3",
   "language": "python",
   "name": "python3"
  },
  "language_info": {
   "codemirror_mode": {
    "name": "ipython",
    "version": 3
   },
   "file_extension": ".py",
   "mimetype": "text/x-python",
   "name": "python",
   "nbconvert_exporter": "python",
   "pygments_lexer": "ipython3",
   "version": "3.4.4"
  }
 },
 "nbformat": 4,
 "nbformat_minor": 2
}
