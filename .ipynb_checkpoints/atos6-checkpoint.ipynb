{
 "cells": [
  {
   "cell_type": "markdown",
   "metadata": {},
   "source": [
    "# <font color='green'> Fourth try: Finding the outliers with quartiles method.</font>"
   ]
  },
  {
   "cell_type": "code",
   "execution_count": 2,
   "metadata": {},
   "outputs": [],
   "source": [
    "# Imports\n",
    "import pandas as pd\n",
    "import numpy as np\n",
    "import csv\n",
    "from sklearn.mixture import GaussianMixture\n",
    "from sklearn.cluster import KMeans\n",
    "from sklearn.metrics import silhouette_score\n",
    "from sklearn.decomposition import PCA"
   ]
  },
  {
   "cell_type": "code",
   "execution_count": 3,
   "metadata": {},
   "outputs": [],
   "source": [
    "data = pd.read_csv('mydata.csv')\n",
    "#data = data[1:]"
   ]
  },
  {
   "cell_type": "code",
   "execution_count": 4,
   "metadata": {},
   "outputs": [],
   "source": [
    "samples = pd.DataFrame(data.loc[:], columns = data.columns).reset_index(drop = True)\n",
    "# print ('Chosen samples of whole set of features:')\n",
    "# display(samples)"
   ]
  },
  {
   "cell_type": "code",
   "execution_count": 5,
   "metadata": {},
   "outputs": [
    {
     "name": "stdout",
     "output_type": "stream",
     "text": [
      "[2, 3, 4, 5, 6, 7, 8, 9, 10]\n"
     ]
    }
   ],
   "source": [
    "# Create range of clusters \n",
    "range_n_clusters = list(range(2,11))\n",
    "print(range_n_clusters)"
   ]
  },
  {
   "cell_type": "code",
   "execution_count": 6,
   "metadata": {},
   "outputs": [],
   "source": [
    "cols = [\"V1\",\"V2\",\"V3\",\"V4\",\"V5\",\"V6\",\"V7\",\"V8\",\"V9\",\"V10\",\"V11\",\"V12\",\"V13\",\"V14\",\"V15\",\"V16\",\"V17\",\"V18\",\"V19\",\"V20\",\"V21\",\"V22\",\"V23\",\"V24\",\"V25\",\"V26\",\"V27\",\"V28\",\"V29\",\"V30\",\"V31\",\"V32\",\"V33\",\"V34\",\"V35\",\"V36\"]"
   ]
  },
  {
   "cell_type": "code",
   "execution_count": 7,
   "metadata": {},
   "outputs": [],
   "source": [
    "# Scaling the data using the natural logarithm\n",
    "log_data = np.log(data)\n",
    "\n",
    "# Scaling the sample data using the natural logarithm\n",
    "log_samples = np.log(samples)\n",
    "\n",
    "# Produce a scatter matrix for each pair of newly-transformed features\n",
    "pd.plotting.scatter_matrix(log_data, alpha = 0.3, figsize = (20,10), diagonal = 'kde');"
   ]
  },
  {
   "cell_type": "code",
   "execution_count": 8,
   "metadata": {},
   "outputs": [
    {
     "name": "stdout",
     "output_type": "stream",
     "text": [
      "Outliers list:\n",
      " [0, 1, 2, 3, 4, 5, 6, 7, 8, 2053, 10, 3083, 3084, 13, 11, 3082, 16, 17, 18, 19, 20, 21, 23, 24, 25, 26, 27, 28, 29, 31, 32, 33, 34, 35, 38, 39, 40, 41, 42, 43, 44, 45, 2606, 47, 2095, 50, 51, 54, 56, 57, 58, 59, 60, 12, 62, 63, 4674, 67, 68, 69, 66, 73, 114, 3701, 4727, 2681, 2682, 2176, 141, 1678, 1679, 1680, 1681, 158, 678, 4777, 4778, 196, 1733, 2247, 719, 2774, 2786, 2817, 276, 2337, 1313, 4387, 1828, 291, 2862, 2863, 2350, 2351, 1846, 2359, 2360, 1848, 1847, 328, 1352, 2388, 4436, 344, 350, 1887, 865, 362, 1903, 369, 3444, 387, 2948, 2949, 1413, 388, 389, 2443, 403, 3479, 418, 1956, 2473, 2474, 432, 3504, 2994, 4531, 2995, 969, 2512, 471, 3545, 2009, 3039, 3040, 4584, 4585, 4586, 2548, 2549, 2550, 3582]\n",
      "Length of outliers list:\n",
      " 143\n",
      "Duplicate list:\n",
      " [0, 1, 2, 3, 4, 5, 6, 7, 8, 388, 10, 3083, 1680, 13, 12, 1679, 16, 17, 18, 19, 20, 21, 403, 23, 24, 3479, 26, 27, 28, 29, 31, 32, 33, 35, 4387, 38, 39, 40, 41, 42, 2473, 44, 45, 2862, 47, 3504, 2350, 50, 2994, 2095, 54, 2359, 56, 57, 1847, 59, 60, 62, 63, 66, 68, 69, 1352, 73, 719, 344, 3545, 3039, 4585, 114, 3444, 2549, 2682, 3582]\n",
      "Length of duplicates list:\n",
      " 74\n",
      "Original shape of data:\n",
      " (5100, 36)\n",
      "New shape of data:\n",
      " (5026, 36)\n"
     ]
    }
   ],
   "source": [
    "import itertools\n",
    "# Find the indexes of the outliers\n",
    "outliers_lst  = []\n",
    "\n",
    "# Find extreme values (quartiles) for each features\n",
    "for feature in log_data.columns:\n",
    "    # Q1 (25th percentile)\n",
    "    Q1 = np.percentile(log_data.loc[:, feature], 25)\n",
    "\n",
    "    # Q3 (75th percentile)\n",
    "    Q3 = np.percentile(log_data.loc[:, feature], 75)\n",
    "\n",
    "    # outlier step = 1.5 x (Interquartile range)\n",
    "    step = 1.5 * (Q3 - Q1)\n",
    "\n",
    "    # Finding any points outside of Q1 - step and Q3 + step\n",
    "    outliers_rows = log_data.loc[~((log_data[feature] >= Q1 - step) & (log_data[feature] <= Q3 + step)), :]\n",
    "    # Display the outliers\n",
    "    # print ('Data points considered outliers for the feature {}:'.format(feature))\n",
    "    # display(outliers_rows)\n",
    "\n",
    "    # fill the outlier list\n",
    "    outliers_lst.append(list(outliers_rows.index))\n",
    "\n",
    "outliers = list(itertools.chain.from_iterable(outliers_lst))\n",
    "\n",
    "# Sets is used to take off duplicates\n",
    "uniq_outliers = list(set(outliers))\n",
    "\n",
    "# List of duplicate outliers\n",
    "dup_outliers = list(set([x for x in outliers if outliers.count(x) > 1]))\n",
    "\n",
    "print ('Outliers list:\\n', uniq_outliers)\n",
    "print ('Length of outliers list:\\n', len(uniq_outliers))\n",
    "\n",
    "print ('Duplicate list:\\n', dup_outliers)\n",
    "print ('Length of duplicates list:\\n', len(dup_outliers))\n",
    "\n",
    "# Remove duplicate outliers\n",
    "good_data = log_data.drop(log_data.index[dup_outliers]).reset_index(drop = True)\n",
    "\n",
    "# Original Data \n",
    "print ('Original shape of data:\\n', data.shape)\n",
    "# Processed Data\n",
    "print ('New shape of data:\\n', good_data.shape)"
   ]
  },
  {
   "cell_type": "code",
   "execution_count": 40,
   "metadata": {},
   "outputs": [
    {
     "data": {
      "text/plain": [
       "(5026, 36)"
      ]
     },
     "execution_count": 40,
     "metadata": {},
     "output_type": "execute_result"
    }
   ],
   "source": [
    "good_data.shape"
   ]
  }
 ],
 "metadata": {
  "kernelspec": {
   "display_name": "Python 3",
   "language": "python",
   "name": "python3"
  },
  "language_info": {
   "codemirror_mode": {
    "name": "ipython",
    "version": 3
   },
   "file_extension": ".py",
   "mimetype": "text/x-python",
   "name": "python",
   "nbconvert_exporter": "python",
   "pygments_lexer": "ipython3",
   "version": "3.4.4"
  }
 },
 "nbformat": 4,
 "nbformat_minor": 2
}
