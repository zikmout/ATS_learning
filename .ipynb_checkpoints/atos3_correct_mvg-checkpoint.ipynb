{
 "cells": [
  {
   "cell_type": "markdown",
   "metadata": {},
   "source": [
    "# <font color='green'> Sixth try: Trying to modify the multivariate gaussian formula that was not appropriate in atos1.ipynb.</font>"
   ]
  },
  {
   "cell_type": "markdown",
   "metadata": {},
   "source": [
    "### <font color='blue'>From the Andrew NG lecture on coursera I succeeded in implementing the multivariate gaussian formula with matlab but it did not work as expected here with python, there is a little problem in my code I need to fix regarding the covariance matrix. I am sure I can do it with a bit more time.</font>"
   ]
  },
  {
   "cell_type": "code",
   "execution_count": 104,
   "metadata": {},
   "outputs": [],
   "source": [
    "import numpy as np \n",
    "import pandas as pd\n",
    "\n",
    "import matplotlib\n",
    "import matplotlib.pyplot as plt\n",
    "%matplotlib inline"
   ]
  },
  {
   "cell_type": "code",
   "execution_count": 105,
   "metadata": {},
   "outputs": [
    {
     "data": {
      "text/html": [
       "<div>\n",
       "<style>\n",
       "    .dataframe thead tr:only-child th {\n",
       "        text-align: right;\n",
       "    }\n",
       "\n",
       "    .dataframe thead th {\n",
       "        text-align: left;\n",
       "    }\n",
       "\n",
       "    .dataframe tbody tr th {\n",
       "        vertical-align: top;\n",
       "    }\n",
       "</style>\n",
       "<table border=\"1\" class=\"dataframe\">\n",
       "  <thead>\n",
       "    <tr style=\"text-align: right;\">\n",
       "      <th></th>\n",
       "      <th>V1</th>\n",
       "      <th>V2</th>\n",
       "      <th>V3</th>\n",
       "      <th>V4</th>\n",
       "      <th>V5</th>\n",
       "      <th>V6</th>\n",
       "      <th>V7</th>\n",
       "      <th>V8</th>\n",
       "      <th>V9</th>\n",
       "      <th>V10</th>\n",
       "      <th>...</th>\n",
       "      <th>V27</th>\n",
       "      <th>V28</th>\n",
       "      <th>V29</th>\n",
       "      <th>V30</th>\n",
       "      <th>V31</th>\n",
       "      <th>V32</th>\n",
       "      <th>V33</th>\n",
       "      <th>V34</th>\n",
       "      <th>V35</th>\n",
       "      <th>V36</th>\n",
       "    </tr>\n",
       "  </thead>\n",
       "  <tbody>\n",
       "    <tr>\n",
       "      <th>0</th>\n",
       "      <td>46</td>\n",
       "      <td>40</td>\n",
       "      <td>119</td>\n",
       "      <td>139</td>\n",
       "      <td>42</td>\n",
       "      <td>30</td>\n",
       "      <td>135</td>\n",
       "      <td>157</td>\n",
       "      <td>42</td>\n",
       "      <td>30</td>\n",
       "      <td>...</td>\n",
       "      <td>115</td>\n",
       "      <td>113</td>\n",
       "      <td>50</td>\n",
       "      <td>46</td>\n",
       "      <td>111</td>\n",
       "      <td>116</td>\n",
       "      <td>44</td>\n",
       "      <td>31</td>\n",
       "      <td>131</td>\n",
       "      <td>142</td>\n",
       "    </tr>\n",
       "    <tr>\n",
       "      <th>1</th>\n",
       "      <td>47</td>\n",
       "      <td>37</td>\n",
       "      <td>119</td>\n",
       "      <td>133</td>\n",
       "      <td>44</td>\n",
       "      <td>34</td>\n",
       "      <td>124</td>\n",
       "      <td>143</td>\n",
       "      <td>44</td>\n",
       "      <td>34</td>\n",
       "      <td>...</td>\n",
       "      <td>100</td>\n",
       "      <td>85</td>\n",
       "      <td>50</td>\n",
       "      <td>39</td>\n",
       "      <td>118</td>\n",
       "      <td>132</td>\n",
       "      <td>43</td>\n",
       "      <td>29</td>\n",
       "      <td>133</td>\n",
       "      <td>143</td>\n",
       "    </tr>\n",
       "    <tr>\n",
       "      <th>2</th>\n",
       "      <td>80</td>\n",
       "      <td>95</td>\n",
       "      <td>100</td>\n",
       "      <td>74</td>\n",
       "      <td>64</td>\n",
       "      <td>64</td>\n",
       "      <td>104</td>\n",
       "      <td>96</td>\n",
       "      <td>46</td>\n",
       "      <td>36</td>\n",
       "      <td>...</td>\n",
       "      <td>100</td>\n",
       "      <td>81</td>\n",
       "      <td>82</td>\n",
       "      <td>91</td>\n",
       "      <td>92</td>\n",
       "      <td>78</td>\n",
       "      <td>78</td>\n",
       "      <td>83</td>\n",
       "      <td>96</td>\n",
       "      <td>74</td>\n",
       "    </tr>\n",
       "    <tr>\n",
       "      <th>3</th>\n",
       "      <td>56</td>\n",
       "      <td>51</td>\n",
       "      <td>72</td>\n",
       "      <td>60</td>\n",
       "      <td>59</td>\n",
       "      <td>54</td>\n",
       "      <td>72</td>\n",
       "      <td>60</td>\n",
       "      <td>59</td>\n",
       "      <td>51</td>\n",
       "      <td>...</td>\n",
       "      <td>71</td>\n",
       "      <td>50</td>\n",
       "      <td>57</td>\n",
       "      <td>55</td>\n",
       "      <td>74</td>\n",
       "      <td>61</td>\n",
       "      <td>57</td>\n",
       "      <td>55</td>\n",
       "      <td>78</td>\n",
       "      <td>65</td>\n",
       "    </tr>\n",
       "    <tr>\n",
       "      <th>4</th>\n",
       "      <td>44</td>\n",
       "      <td>34</td>\n",
       "      <td>129</td>\n",
       "      <td>140</td>\n",
       "      <td>44</td>\n",
       "      <td>34</td>\n",
       "      <td>124</td>\n",
       "      <td>136</td>\n",
       "      <td>44</td>\n",
       "      <td>34</td>\n",
       "      <td>...</td>\n",
       "      <td>133</td>\n",
       "      <td>139</td>\n",
       "      <td>43</td>\n",
       "      <td>31</td>\n",
       "      <td>128</td>\n",
       "      <td>135</td>\n",
       "      <td>43</td>\n",
       "      <td>29</td>\n",
       "      <td>128</td>\n",
       "      <td>132</td>\n",
       "    </tr>\n",
       "  </tbody>\n",
       "</table>\n",
       "<p>5 rows × 36 columns</p>\n",
       "</div>"
      ],
      "text/plain": [
       "   V1  V2   V3   V4  V5  V6   V7   V8  V9  V10 ...   V27  V28  V29  V30  V31  \\\n",
       "0  46  40  119  139  42  30  135  157  42   30 ...   115  113   50   46  111   \n",
       "1  47  37  119  133  44  34  124  143  44   34 ...   100   85   50   39  118   \n",
       "2  80  95  100   74  64  64  104   96  46   36 ...   100   81   82   91   92   \n",
       "3  56  51   72   60  59  54   72   60  59   51 ...    71   50   57   55   74   \n",
       "4  44  34  129  140  44  34  124  136  44   34 ...   133  139   43   31  128   \n",
       "\n",
       "   V32  V33  V34  V35  V36  \n",
       "0  116   44   31  131  142  \n",
       "1  132   43   29  133  143  \n",
       "2   78   78   83   96   74  \n",
       "3   61   57   55   78   65  \n",
       "4  135   43   29  128  132  \n",
       "\n",
       "[5 rows x 36 columns]"
      ]
     },
     "execution_count": 105,
     "metadata": {},
     "output_type": "execute_result"
    }
   ],
   "source": [
    "data = pd.read_csv('mydata.csv')\n",
    "data.head()"
   ]
  },
  {
   "cell_type": "code",
   "execution_count": 106,
   "metadata": {},
   "outputs": [
    {
     "data": {
      "text/html": [
       "<div>\n",
       "<style>\n",
       "    .dataframe thead tr:only-child th {\n",
       "        text-align: right;\n",
       "    }\n",
       "\n",
       "    .dataframe thead th {\n",
       "        text-align: left;\n",
       "    }\n",
       "\n",
       "    .dataframe tbody tr th {\n",
       "        vertical-align: top;\n",
       "    }\n",
       "</style>\n",
       "<table border=\"1\" class=\"dataframe\">\n",
       "  <thead>\n",
       "    <tr style=\"text-align: right;\">\n",
       "      <th></th>\n",
       "      <th>V1</th>\n",
       "      <th>V2</th>\n",
       "      <th>V3</th>\n",
       "      <th>V4</th>\n",
       "      <th>V5</th>\n",
       "      <th>V6</th>\n",
       "      <th>V7</th>\n",
       "      <th>V8</th>\n",
       "      <th>V9</th>\n",
       "      <th>V10</th>\n",
       "      <th>...</th>\n",
       "      <th>V27</th>\n",
       "      <th>V28</th>\n",
       "      <th>V29</th>\n",
       "      <th>V30</th>\n",
       "      <th>V31</th>\n",
       "      <th>V32</th>\n",
       "      <th>V33</th>\n",
       "      <th>V34</th>\n",
       "      <th>V35</th>\n",
       "      <th>V36</th>\n",
       "    </tr>\n",
       "  </thead>\n",
       "  <tbody>\n",
       "    <tr>\n",
       "      <th>count</th>\n",
       "      <td>5100.000000</td>\n",
       "      <td>5100.000000</td>\n",
       "      <td>5100.000000</td>\n",
       "      <td>5100.000000</td>\n",
       "      <td>5100.000000</td>\n",
       "      <td>5100.000000</td>\n",
       "      <td>5100.000000</td>\n",
       "      <td>5100.000000</td>\n",
       "      <td>5100.000000</td>\n",
       "      <td>5100.000000</td>\n",
       "      <td>...</td>\n",
       "      <td>5100.000000</td>\n",
       "      <td>5100.000000</td>\n",
       "      <td>5100.000000</td>\n",
       "      <td>5100.000000</td>\n",
       "      <td>5100.000000</td>\n",
       "      <td>5100.000000</td>\n",
       "      <td>5100.000000</td>\n",
       "      <td>5100.000000</td>\n",
       "      <td>5100.000000</td>\n",
       "      <td>5100.000000</td>\n",
       "    </tr>\n",
       "    <tr>\n",
       "      <th>mean</th>\n",
       "      <td>73.092157</td>\n",
       "      <td>91.578431</td>\n",
       "      <td>99.568627</td>\n",
       "      <td>79.827059</td>\n",
       "      <td>72.957843</td>\n",
       "      <td>91.425686</td>\n",
       "      <td>99.357843</td>\n",
       "      <td>79.643725</td>\n",
       "      <td>72.608039</td>\n",
       "      <td>90.861765</td>\n",
       "      <td>...</td>\n",
       "      <td>99.244902</td>\n",
       "      <td>79.695686</td>\n",
       "      <td>72.590588</td>\n",
       "      <td>91.187843</td>\n",
       "      <td>99.207451</td>\n",
       "      <td>79.615294</td>\n",
       "      <td>72.357647</td>\n",
       "      <td>90.856667</td>\n",
       "      <td>98.984510</td>\n",
       "      <td>79.492941</td>\n",
       "    </tr>\n",
       "    <tr>\n",
       "      <th>std</th>\n",
       "      <td>11.876090</td>\n",
       "      <td>16.038819</td>\n",
       "      <td>15.611375</td>\n",
       "      <td>13.513639</td>\n",
       "      <td>11.772122</td>\n",
       "      <td>15.823086</td>\n",
       "      <td>15.585557</td>\n",
       "      <td>13.447272</td>\n",
       "      <td>11.716109</td>\n",
       "      <td>16.071067</td>\n",
       "      <td>...</td>\n",
       "      <td>15.721836</td>\n",
       "      <td>13.749900</td>\n",
       "      <td>11.815466</td>\n",
       "      <td>15.915964</td>\n",
       "      <td>15.735910</td>\n",
       "      <td>13.626149</td>\n",
       "      <td>11.711489</td>\n",
       "      <td>15.921349</td>\n",
       "      <td>15.712095</td>\n",
       "      <td>13.707023</td>\n",
       "    </tr>\n",
       "    <tr>\n",
       "      <th>min</th>\n",
       "      <td>41.000000</td>\n",
       "      <td>28.000000</td>\n",
       "      <td>62.000000</td>\n",
       "      <td>44.000000</td>\n",
       "      <td>42.000000</td>\n",
       "      <td>29.000000</td>\n",
       "      <td>62.000000</td>\n",
       "      <td>46.000000</td>\n",
       "      <td>42.000000</td>\n",
       "      <td>29.000000</td>\n",
       "      <td>...</td>\n",
       "      <td>60.000000</td>\n",
       "      <td>44.000000</td>\n",
       "      <td>41.000000</td>\n",
       "      <td>27.000000</td>\n",
       "      <td>62.000000</td>\n",
       "      <td>42.000000</td>\n",
       "      <td>40.000000</td>\n",
       "      <td>27.000000</td>\n",
       "      <td>50.000000</td>\n",
       "      <td>29.000000</td>\n",
       "    </tr>\n",
       "    <tr>\n",
       "      <th>25%</th>\n",
       "      <td>64.000000</td>\n",
       "      <td>79.000000</td>\n",
       "      <td>87.000000</td>\n",
       "      <td>70.000000</td>\n",
       "      <td>64.000000</td>\n",
       "      <td>79.000000</td>\n",
       "      <td>86.000000</td>\n",
       "      <td>69.000000</td>\n",
       "      <td>64.000000</td>\n",
       "      <td>79.000000</td>\n",
       "      <td>...</td>\n",
       "      <td>86.000000</td>\n",
       "      <td>69.000000</td>\n",
       "      <td>64.000000</td>\n",
       "      <td>79.000000</td>\n",
       "      <td>86.000000</td>\n",
       "      <td>69.000000</td>\n",
       "      <td>64.000000</td>\n",
       "      <td>79.000000</td>\n",
       "      <td>86.000000</td>\n",
       "      <td>68.000000</td>\n",
       "    </tr>\n",
       "    <tr>\n",
       "      <th>50%</th>\n",
       "      <td>71.000000</td>\n",
       "      <td>92.000000</td>\n",
       "      <td>101.000000</td>\n",
       "      <td>81.000000</td>\n",
       "      <td>71.000000</td>\n",
       "      <td>92.000000</td>\n",
       "      <td>101.000000</td>\n",
       "      <td>81.000000</td>\n",
       "      <td>71.000000</td>\n",
       "      <td>91.000000</td>\n",
       "      <td>...</td>\n",
       "      <td>101.000000</td>\n",
       "      <td>81.000000</td>\n",
       "      <td>71.000000</td>\n",
       "      <td>91.500000</td>\n",
       "      <td>101.000000</td>\n",
       "      <td>81.000000</td>\n",
       "      <td>71.000000</td>\n",
       "      <td>91.000000</td>\n",
       "      <td>100.000000</td>\n",
       "      <td>81.000000</td>\n",
       "    </tr>\n",
       "    <tr>\n",
       "      <th>75%</th>\n",
       "      <td>84.000000</td>\n",
       "      <td>106.000000</td>\n",
       "      <td>113.000000</td>\n",
       "      <td>90.000000</td>\n",
       "      <td>83.000000</td>\n",
       "      <td>106.000000</td>\n",
       "      <td>113.000000</td>\n",
       "      <td>90.000000</td>\n",
       "      <td>83.000000</td>\n",
       "      <td>104.000000</td>\n",
       "      <td>...</td>\n",
       "      <td>113.000000</td>\n",
       "      <td>90.000000</td>\n",
       "      <td>83.000000</td>\n",
       "      <td>104.000000</td>\n",
       "      <td>113.000000</td>\n",
       "      <td>90.000000</td>\n",
       "      <td>82.000000</td>\n",
       "      <td>104.000000</td>\n",
       "      <td>112.000000</td>\n",
       "      <td>90.000000</td>\n",
       "    </tr>\n",
       "    <tr>\n",
       "      <th>max</th>\n",
       "      <td>104.000000</td>\n",
       "      <td>137.000000</td>\n",
       "      <td>139.000000</td>\n",
       "      <td>144.000000</td>\n",
       "      <td>104.000000</td>\n",
       "      <td>137.000000</td>\n",
       "      <td>139.000000</td>\n",
       "      <td>157.000000</td>\n",
       "      <td>104.000000</td>\n",
       "      <td>130.000000</td>\n",
       "      <td>...</td>\n",
       "      <td>139.000000</td>\n",
       "      <td>151.000000</td>\n",
       "      <td>104.000000</td>\n",
       "      <td>130.000000</td>\n",
       "      <td>139.000000</td>\n",
       "      <td>151.000000</td>\n",
       "      <td>104.000000</td>\n",
       "      <td>130.000000</td>\n",
       "      <td>138.000000</td>\n",
       "      <td>147.000000</td>\n",
       "    </tr>\n",
       "  </tbody>\n",
       "</table>\n",
       "<p>8 rows × 36 columns</p>\n",
       "</div>"
      ],
      "text/plain": [
       "                V1           V2           V3           V4           V5  \\\n",
       "count  5100.000000  5100.000000  5100.000000  5100.000000  5100.000000   \n",
       "mean     73.092157    91.578431    99.568627    79.827059    72.957843   \n",
       "std      11.876090    16.038819    15.611375    13.513639    11.772122   \n",
       "min      41.000000    28.000000    62.000000    44.000000    42.000000   \n",
       "25%      64.000000    79.000000    87.000000    70.000000    64.000000   \n",
       "50%      71.000000    92.000000   101.000000    81.000000    71.000000   \n",
       "75%      84.000000   106.000000   113.000000    90.000000    83.000000   \n",
       "max     104.000000   137.000000   139.000000   144.000000   104.000000   \n",
       "\n",
       "                V6           V7           V8           V9          V10  \\\n",
       "count  5100.000000  5100.000000  5100.000000  5100.000000  5100.000000   \n",
       "mean     91.425686    99.357843    79.643725    72.608039    90.861765   \n",
       "std      15.823086    15.585557    13.447272    11.716109    16.071067   \n",
       "min      29.000000    62.000000    46.000000    42.000000    29.000000   \n",
       "25%      79.000000    86.000000    69.000000    64.000000    79.000000   \n",
       "50%      92.000000   101.000000    81.000000    71.000000    91.000000   \n",
       "75%     106.000000   113.000000    90.000000    83.000000   104.000000   \n",
       "max     137.000000   139.000000   157.000000   104.000000   130.000000   \n",
       "\n",
       "          ...               V27          V28          V29          V30  \\\n",
       "count     ...       5100.000000  5100.000000  5100.000000  5100.000000   \n",
       "mean      ...         99.244902    79.695686    72.590588    91.187843   \n",
       "std       ...         15.721836    13.749900    11.815466    15.915964   \n",
       "min       ...         60.000000    44.000000    41.000000    27.000000   \n",
       "25%       ...         86.000000    69.000000    64.000000    79.000000   \n",
       "50%       ...        101.000000    81.000000    71.000000    91.500000   \n",
       "75%       ...        113.000000    90.000000    83.000000   104.000000   \n",
       "max       ...        139.000000   151.000000   104.000000   130.000000   \n",
       "\n",
       "               V31          V32          V33          V34          V35  \\\n",
       "count  5100.000000  5100.000000  5100.000000  5100.000000  5100.000000   \n",
       "mean     99.207451    79.615294    72.357647    90.856667    98.984510   \n",
       "std      15.735910    13.626149    11.711489    15.921349    15.712095   \n",
       "min      62.000000    42.000000    40.000000    27.000000    50.000000   \n",
       "25%      86.000000    69.000000    64.000000    79.000000    86.000000   \n",
       "50%     101.000000    81.000000    71.000000    91.000000   100.000000   \n",
       "75%     113.000000    90.000000    82.000000   104.000000   112.000000   \n",
       "max     139.000000   151.000000   104.000000   130.000000   138.000000   \n",
       "\n",
       "               V36  \n",
       "count  5100.000000  \n",
       "mean     79.492941  \n",
       "std      13.707023  \n",
       "min      29.000000  \n",
       "25%      68.000000  \n",
       "50%      81.000000  \n",
       "75%      90.000000  \n",
       "max     147.000000  \n",
       "\n",
       "[8 rows x 36 columns]"
      ]
     },
     "execution_count": 106,
     "metadata": {},
     "output_type": "execute_result"
    }
   ],
   "source": [
    "data.describe()"
   ]
  },
  {
   "cell_type": "code",
   "execution_count": 112,
   "metadata": {},
   "outputs": [
    {
     "name": "stderr",
     "output_type": "stream",
     "text": [
      "/Users/ssicard/Library/Python/3.4/lib/python/site-packages/ipykernel_launcher.py:3: RuntimeWarning: divide by zero encountered in log\n",
      "  This is separate from the ipykernel package so we can avoid doing imports until\n"
     ]
    }
   ],
   "source": [
    "# create column class which is going to be 0 (normal) or 1 (abnormal)\n",
    "data['Class'] = pd.Series(0, index=data.index)\n",
    "log_data = np.log(data[:-1])"
   ]
  },
  {
   "cell_type": "code",
   "execution_count": 22,
   "metadata": {},
   "outputs": [],
   "source": [
    "normal_data = data.loc[data[\"Class\"] == 0]\n",
    "fraud_data = data.loc[data[\"Class\"] == 1]"
   ]
  },
  {
   "cell_type": "code",
   "execution_count": 34,
   "metadata": {},
   "outputs": [
    {
     "data": {
      "text/plain": [
       "<matplotlib.figure.Figure at 0x1236794a8>"
      ]
     },
     "metadata": {},
     "output_type": "display_data"
    }
   ],
   "source": [
    "plt.figure();"
   ]
  },
  {
   "cell_type": "code",
   "execution_count": 109,
   "metadata": {},
   "outputs": [
    {
     "data": {
      "image/png": "[encoded data removed]",
      "text/plain": [
       "<matplotlib.figure.Figure at 0x122e53e10>"
      ]
     },
     "metadata": {},
     "output_type": "display_data"
    }
   ],
   "source": [
    "matplotlib.style.use('ggplot')\n",
    "pca_columns = list(data)[0:-1]\n",
    "normal_data[pca_columns].hist(stacked=False, bins=100, figsize=(12,30), layout=(36,2));"
   ]
  },
  {
   "cell_type": "code",
   "execution_count": 121,
   "metadata": {},
   "outputs": [
    {
     "data": {
      "image/png": "[encoded data removed]",
      "text/plain": [
       "<matplotlib.figure.Figure at 0x11fa10898>"
      ]
     },
     "metadata": {},
     "output_type": "display_data"
    }
   ],
   "source": [
    "normal_pca_data = normal_data[pca_columns]\n",
    "fraud_pca_data = fraud_data[pca_columns]\n",
    "plt.matshow(normal_pca_data.corr());"
   ]
  },
  {
   "cell_type": "code",
   "execution_count": 122,
   "metadata": {},
   "outputs": [],
   "source": [
    "num_test = 5100\n",
    "shuffled_data = normal_pca_data.sample(frac=1)[:-num_test].values\n",
    "\n",
    "X_train = shuffled_data[:-1*num_test]\n",
    "\n",
    "X_valid = np.concatenate([shuffled_data[-1*num_test:-num_test], fraud_pca_data[:246]])\n",
    "y_valid = np.concatenate([np.zeros(num_test), np.ones(246)])\n",
    "\n",
    "X_test = np.concatenate([shuffled_data[-num_test:], fraud_pca_data[246:]])\n",
    "y_test = np.concatenate([np.zeros(num_test), np.ones(246)])"
   ]
  },
  {
   "cell_type": "code",
   "execution_count": 126,
   "metadata": {},
   "outputs": [
    {
     "data": {
      "text/plain": [
       "array([], shape=(0, 36), dtype=int64)"
      ]
     },
     "execution_count": 126,
     "metadata": {},
     "output_type": "execute_result"
    }
   ],
   "source": [
    "X_test"
   ]
  },
  {
   "cell_type": "code",
   "execution_count": 97,
   "metadata": {},
   "outputs": [],
   "source": [
    "def covariance_matrix(X):\n",
    "    m, n = X.shape \n",
    "    tmp_mat = np.zeros((n, n))\n",
    "    mu = X.mean(axis=0)\n",
    "    for i in range(m):\n",
    "        tmp_mat += np.outer(X[i] - mu, X[i] - mu)\n",
    "    return tmp_mat / m"
   ]
  },
  {
   "cell_type": "code",
   "execution_count": 98,
   "metadata": {},
   "outputs": [],
   "source": [
    "#cov_mat = covariance_matrix(X_train)\n",
    "cov_mat = np.cov(X_train)"
   ]
  },
  {
   "cell_type": "code",
   "execution_count": 99,
   "metadata": {},
   "outputs": [
    {
     "name": "stdout",
     "output_type": "stream",
     "text": [
      "[]\n"
     ]
    }
   ],
   "source": [
    "print(cov_mat)"
   ]
  },
  {
   "cell_type": "code",
   "execution_count": 100,
   "metadata": {},
   "outputs": [
    {
     "data": {
      "text/plain": [
       "array([], shape=(0, 35), dtype=int64)"
      ]
     },
     "execution_count": 100,
     "metadata": {},
     "output_type": "execute_result"
    }
   ],
   "source": [
    "X_train"
   ]
  },
  {
   "cell_type": "code",
   "execution_count": 101,
   "metadata": {},
   "outputs": [],
   "source": [
    "cov_mat_inv = np.linalg.pinv(cov_mat)\n",
    "cov_mat_det = np.linalg.det(cov_mat)\n",
    "def multi_gauss(x):\n",
    "    n = len(cov_mat)\n",
    "    return (np.exp(-0.5 * np.dot(x, np.dot(cov_mat_inv, x.T))) \n",
    "            / (2. * np.pi)**(n/2.) \n",
    "            / np.sqrt(cov_mat_det))"
   ]
  },
  {
   "cell_type": "code",
   "execution_count": 102,
   "metadata": {},
   "outputs": [],
   "source": [
    "from sklearn.metrics import confusion_matrix\n",
    "\n",
    "def stats(X_test, y_test, eps):\n",
    "    predictions = np.array([multi_gauss(x) <= eps for x in X_test], dtype=bool)\n",
    "    y_test = np.array(y_test, dtype=bool)\n",
    "    tn, fp, fn, tp = confusion_matrix(y_test, predictions).ravel()\n",
    "    recall = tp / (tp + fn)\n",
    "    prec = tp / (tp + fp)\n",
    "    F1 = 2 * recall * prec / (recall + prec)\n",
    "    return recall, prec, F1"
   ]
  },
  {
   "cell_type": "code",
   "execution_count": 103,
   "metadata": {},
   "outputs": [
    {
     "ename": "ValueError",
     "evalue": "max() arg is an empty sequence",
     "output_type": "error",
     "traceback": [
      "\u001b[0;31m---------------------------------------------------------------------------\u001b[0m",
      "\u001b[0;31mValueError\u001b[0m                                Traceback (most recent call last)",
      "\u001b[0;32m<ipython-input-103-1728b1297682>\u001b[0m in \u001b[0;36m<module>\u001b[0;34m()\u001b[0m\n\u001b[0;32m----> 1\u001b[0;31m \u001b[0meps\u001b[0m \u001b[0;34m=\u001b[0m \u001b[0mmax\u001b[0m\u001b[0;34m(\u001b[0m\u001b[0;34m[\u001b[0m\u001b[0mmulti_gauss\u001b[0m\u001b[0;34m(\u001b[0m\u001b[0mx\u001b[0m\u001b[0;34m)\u001b[0m \u001b[0;32mfor\u001b[0m \u001b[0mx\u001b[0m \u001b[0;32min\u001b[0m \u001b[0mfraud_pca_data\u001b[0m\u001b[0;34m.\u001b[0m\u001b[0mvalues\u001b[0m\u001b[0;34m]\u001b[0m\u001b[0;34m)\u001b[0m\u001b[0;34m\u001b[0m\u001b[0m\n\u001b[0m\u001b[1;32m      2\u001b[0m \u001b[0mprint\u001b[0m\u001b[0;34m(\u001b[0m\u001b[0meps\u001b[0m\u001b[0;34m)\u001b[0m\u001b[0;34m\u001b[0m\u001b[0m\n",
      "\u001b[0;31mValueError\u001b[0m: max() arg is an empty sequence"
     ]
    }
   ],
   "source": [
    "eps = max([multi_gauss(x) for x in fraud_pca_data.values])\n",
    "print(eps)"
   ]
  }
 ],
 "metadata": {
  "kernelspec": {
   "display_name": "Python 3",
   "language": "python",
   "name": "python3"
  },
  "language_info": {
   "codemirror_mode": {
    "name": "ipython",
    "version": 3
   },
   "file_extension": ".py",
   "mimetype": "text/x-python",
   "name": "python",
   "nbconvert_exporter": "python",
   "pygments_lexer": "ipython3",
   "version": "3.4.4"
  }
 },
 "nbformat": 4,
 "nbformat_minor": 2
}
