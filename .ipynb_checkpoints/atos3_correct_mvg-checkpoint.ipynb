{
 "cells": [
  {
   "cell_type": "code",
   "execution_count": 104,
   "metadata": {},
   "outputs": [],
   "source": [
    "import numpy as np \n",
    "import pandas as pd\n",
    "\n",
    "import matplotlib\n",
    "import matplotlib.pyplot as plt\n",
    "%matplotlib inline"
   ]
  },
  {
   "cell_type": "code",
   "execution_count": 105,
   "metadata": {},
   "outputs": [
    {
     "data": {
      "text/html": [
       "<div>\n",
       "<style>\n",
       "    .dataframe thead tr:only-child th {\n",
       "        text-align: right;\n",
       "    }\n",
       "\n",
       "    .dataframe thead th {\n",
       "        text-align: left;\n",
       "    }\n",
       "\n",
       "    .dataframe tbody tr th {\n",
       "        vertical-align: top;\n",
       "    }\n",
       "</style>\n",
       "<table border=\"1\" class=\"dataframe\">\n",
       "  <thead>\n",
       "    <tr style=\"text-align: right;\">\n",
       "      <th></th>\n",
       "      <th>V1</th>\n",
       "      <th>V2</th>\n",
       "      <th>V3</th>\n",
       "      <th>V4</th>\n",
       "      <th>V5</th>\n",
       "      <th>V6</th>\n",
       "      <th>V7</th>\n",
       "      <th>V8</th>\n",
       "      <th>V9</th>\n",
       "      <th>V10</th>\n",
       "      <th>...</th>\n",
       "      <th>V27</th>\n",
       "      <th>V28</th>\n",
       "      <th>V29</th>\n",
       "      <th>V30</th>\n",
       "      <th>V31</th>\n",
       "      <th>V32</th>\n",
       "      <th>V33</th>\n",
       "      <th>V34</th>\n",
       "      <th>V35</th>\n",
       "      <th>V36</th>\n",
       "    </tr>\n",
       "  </thead>\n",
       "  <tbody>\n",
       "    <tr>\n",
       "      <th>0</th>\n",
       "      <td>46</td>\n",
       "      <td>40</td>\n",
       "      <td>119</td>\n",
       "      <td>139</td>\n",
       "      <td>42</td>\n",
       "      <td>30</td>\n",
       "      <td>135</td>\n",
       "      <td>157</td>\n",
       "      <td>42</td>\n",
       "      <td>30</td>\n",
       "      <td>...</td>\n",
       "      <td>115</td>\n",
       "      <td>113</td>\n",
       "      <td>50</td>\n",
       "      <td>46</td>\n",
       "      <td>111</td>\n",
       "      <td>116</td>\n",
       "      <td>44</td>\n",
       "      <td>31</td>\n",
       "      <td>131</td>\n",
       "      <td>142</td>\n",
       "    </tr>\n",
       "    <tr>\n",
       "      <th>1</th>\n",
       "      <td>47</td>\n",
       "      <td>37</td>\n",
       "      <td>119</td>\n",
       "      <td>133</td>\n",
       "      <td>44</td>\n",
       "      <td>34</td>\n",
       "      <td>124</td>\n",
       "      <td>143</td>\n",
       "      <td>44</td>\n",
       "      <td>34</td>\n",
       "      <td>...</td>\n",
       "      <td>100</td>\n",
       "      <td>85</td>\n",
       "      <td>50</td>\n",
       "      <td>39</td>\n",
       "      <td>118</td>\n",
       "      <td>132</td>\n",
       "      <td>43</td>\n",
       "      <td>29</td>\n",
       "      <td>133</td>\n",
       "      <td>143</td>\n",
       "    </tr>\n",
       "    <tr>\n",
       "      <th>2</th>\n",
       "      <td>80</td>\n",
       "      <td>95</td>\n",
       "      <td>100</td>\n",
       "      <td>74</td>\n",
       "      <td>64</td>\n",
       "      <td>64</td>\n",
       "      <td>104</td>\n",
       "      <td>96</td>\n",
       "      <td>46</td>\n",
       "      <td>36</td>\n",
       "      <td>...</td>\n",
       "      <td>100</td>\n",
       "      <td>81</td>\n",
       "      <td>82</td>\n",
       "      <td>91</td>\n",
       "      <td>92</td>\n",
       "      <td>78</td>\n",
       "      <td>78</td>\n",
       "      <td>83</td>\n",
       "      <td>96</td>\n",
       "      <td>74</td>\n",
       "    </tr>\n",
       "    <tr>\n",
       "      <th>3</th>\n",
       "      <td>56</td>\n",
       "      <td>51</td>\n",
       "      <td>72</td>\n",
       "      <td>60</td>\n",
       "      <td>59</td>\n",
       "      <td>54</td>\n",
       "      <td>72</td>\n",
       "      <td>60</td>\n",
       "      <td>59</td>\n",
       "      <td>51</td>\n",
       "      <td>...</td>\n",
       "      <td>71</td>\n",
       "      <td>50</td>\n",
       "      <td>57</td>\n",
       "      <td>55</td>\n",
       "      <td>74</td>\n",
       "      <td>61</td>\n",
       "      <td>57</td>\n",
       "      <td>55</td>\n",
       "      <td>78</td>\n",
       "      <td>65</td>\n",
       "    </tr>\n",
       "    <tr>\n",
       "      <th>4</th>\n",
       "      <td>44</td>\n",
       "      <td>34</td>\n",
       "      <td>129</td>\n",
       "      <td>140</td>\n",
       "      <td>44</td>\n",
       "      <td>34</td>\n",
       "      <td>124</td>\n",
       "      <td>136</td>\n",
       "      <td>44</td>\n",
       "      <td>34</td>\n",
       "      <td>...</td>\n",
       "      <td>133</td>\n",
       "      <td>139</td>\n",
       "      <td>43</td>\n",
       "      <td>31</td>\n",
       "      <td>128</td>\n",
       "      <td>135</td>\n",
       "      <td>43</td>\n",
       "      <td>29</td>\n",
       "      <td>128</td>\n",
       "      <td>132</td>\n",
       "    </tr>\n",
       "  </tbody>\n",
       "</table>\n",
       "<p>5 rows × 36 columns</p>\n",
       "</div>"
      ],
      "text/plain": [
       "   V1  V2   V3   V4  V5  V6   V7   V8  V9  V10 ...   V27  V28  V29  V30  V31  \\\n",
       "0  46  40  119  139  42  30  135  157  42   30 ...   115  113   50   46  111   \n",
       "1  47  37  119  133  44  34  124  143  44   34 ...   100   85   50   39  118   \n",
       "2  80  95  100   74  64  64  104   96  46   36 ...   100   81   82   91   92   \n",
       "3  56  51   72   60  59  54   72   60  59   51 ...    71   50   57   55   74   \n",
       "4  44  34  129  140  44  34  124  136  44   34 ...   133  139   43   31  128   \n",
       "\n",
       "   V32  V33  V34  V35  V36  \n",
       "0  116   44   31  131  142  \n",
       "1  132   43   29  133  143  \n",
       "2   78   78   83   96   74  \n",
       "3   61   57   55   78   65  \n",
       "4  135   43   29  128  132  \n",
       "\n",
       "[5 rows x 36 columns]"
      ]
     },
     "execution_count": 105,
     "metadata": {},
     "output_type": "execute_result"
    }
   ],
   "source": [
    "data = pd.read_csv('mydata.csv')\n",
    "data.head()"
   ]
  },
  {
   "cell_type": "code",
   "execution_count": 106,
   "metadata": {},
   "outputs": [
    {
     "data": {
      "text/html": [
       "<div>\n",
       "<style>\n",
       "    .dataframe thead tr:only-child th {\n",
       "        text-align: right;\n",
       "    }\n",
       "\n",
       "    .dataframe thead th {\n",
       "        text-align: left;\n",
       "    }\n",
       "\n",
       "    .dataframe tbody tr th {\n",
       "        vertical-align: top;\n",
       "    }\n",
       "</style>\n",
       "<table border=\"1\" class=\"dataframe\">\n",
       "  <thead>\n",
       "    <tr style=\"text-align: right;\">\n",
       "      <th></th>\n",
       "      <th>V1</th>\n",
       "      <th>V2</th>\n",
       "      <th>V3</th>\n",
       "      <th>V4</th>\n",
       "      <th>V5</th>\n",
       "      <th>V6</th>\n",
       "      <th>V7</th>\n",
       "      <th>V8</th>\n",
       "      <th>V9</th>\n",
       "      <th>V10</th>\n",
       "      <th>...</th>\n",
       "      <th>V27</th>\n",
       "      <th>V28</th>\n",
       "      <th>V29</th>\n",
       "      <th>V30</th>\n",
       "      <th>V31</th>\n",
       "      <th>V32</th>\n",
       "      <th>V33</th>\n",
       "      <th>V34</th>\n",
       "      <th>V35</th>\n",
       "      <th>V36</th>\n",
       "    </tr>\n",
       "  </thead>\n",
       "  <tbody>\n",
       "    <tr>\n",
       "      <th>count</th>\n",
       "      <td>5100.000000</td>\n",
       "      <td>5100.000000</td>\n",
       "      <td>5100.000000</td>\n",
       "      <td>5100.000000</td>\n",
       "      <td>5100.000000</td>\n",
       "      <td>5100.000000</td>\n",
       "      <td>5100.000000</td>\n",
       "      <td>5100.000000</td>\n",
       "      <td>5100.000000</td>\n",
       "      <td>5100.000000</td>\n",
       "      <td>...</td>\n",
       "      <td>5100.000000</td>\n",
       "      <td>5100.000000</td>\n",
       "      <td>5100.000000</td>\n",
       "      <td>5100.000000</td>\n",
       "      <td>5100.000000</td>\n",
       "      <td>5100.000000</td>\n",
       "      <td>5100.000000</td>\n",
       "      <td>5100.000000</td>\n",
       "      <td>5100.000000</td>\n",
       "      <td>5100.000000</td>\n",
       "    </tr>\n",
       "    <tr>\n",
       "      <th>mean</th>\n",
       "      <td>73.092157</td>\n",
       "      <td>91.578431</td>\n",
       "      <td>99.568627</td>\n",
       "      <td>79.827059</td>\n",
       "      <td>72.957843</td>\n",
       "      <td>91.425686</td>\n",
       "      <td>99.357843</td>\n",
       "      <td>79.643725</td>\n",
       "      <td>72.608039</td>\n",
       "      <td>90.861765</td>\n",
       "      <td>...</td>\n",
       "      <td>99.244902</td>\n",
       "      <td>79.695686</td>\n",
       "      <td>72.590588</td>\n",
       "      <td>91.187843</td>\n",
       "      <td>99.207451</td>\n",
       "      <td>79.615294</td>\n",
       "      <td>72.357647</td>\n",
       "      <td>90.856667</td>\n",
       "      <td>98.984510</td>\n",
       "      <td>79.492941</td>\n",
       "    </tr>\n",
       "    <tr>\n",
       "      <th>std</th>\n",
       "      <td>11.876090</td>\n",
       "      <td>16.038819</td>\n",
       "      <td>15.611375</td>\n",
       "      <td>13.513639</td>\n",
       "      <td>11.772122</td>\n",
       "      <td>15.823086</td>\n",
       "      <td>15.585557</td>\n",
       "      <td>13.447272</td>\n",
       "      <td>11.716109</td>\n",
       "      <td>16.071067</td>\n",
       "      <td>...</td>\n",
       "      <td>15.721836</td>\n",
       "      <td>13.749900</td>\n",
       "      <td>11.815466</td>\n",
       "      <td>15.915964</td>\n",
       "      <td>15.735910</td>\n",
       "      <td>13.626149</td>\n",
       "      <td>11.711489</td>\n",
       "      <td>15.921349</td>\n",
       "      <td>15.712095</td>\n",
       "      <td>13.707023</td>\n",
       "    </tr>\n",
       "    <tr>\n",
       "      <th>min</th>\n",
       "      <td>41.000000</td>\n",
       "      <td>28.000000</td>\n",
       "      <td>62.000000</td>\n",
       "      <td>44.000000</td>\n",
       "      <td>42.000000</td>\n",
       "      <td>29.000000</td>\n",
       "      <td>62.000000</td>\n",
       "      <td>46.000000</td>\n",
       "      <td>42.000000</td>\n",
       "      <td>29.000000</td>\n",
       "      <td>...</td>\n",
       "      <td>60.000000</td>\n",
       "      <td>44.000000</td>\n",
       "      <td>41.000000</td>\n",
       "      <td>27.000000</td>\n",
       "      <td>62.000000</td>\n",
       "      <td>42.000000</td>\n",
       "      <td>40.000000</td>\n",
       "      <td>27.000000</td>\n",
       "      <td>50.000000</td>\n",
       "      <td>29.000000</td>\n",
       "    </tr>\n",
       "    <tr>\n",
       "      <th>25%</th>\n",
       "      <td>64.000000</td>\n",
       "      <td>79.000000</td>\n",
       "      <td>87.000000</td>\n",
       "      <td>70.000000</td>\n",
       "      <td>64.000000</td>\n",
       "      <td>79.000000</td>\n",
       "      <td>86.000000</td>\n",
       "      <td>69.000000</td>\n",
       "      <td>64.000000</td>\n",
       "      <td>79.000000</td>\n",
       "      <td>...</td>\n",
       "      <td>86.000000</td>\n",
       "      <td>69.000000</td>\n",
       "      <td>64.000000</td>\n",
       "      <td>79.000000</td>\n",
       "      <td>86.000000</td>\n",
       "      <td>69.000000</td>\n",
       "      <td>64.000000</td>\n",
       "      <td>79.000000</td>\n",
       "      <td>86.000000</td>\n",
       "      <td>68.000000</td>\n",
       "    </tr>\n",
       "    <tr>\n",
       "      <th>50%</th>\n",
       "      <td>71.000000</td>\n",
       "      <td>92.000000</td>\n",
       "      <td>101.000000</td>\n",
       "      <td>81.000000</td>\n",
       "      <td>71.000000</td>\n",
       "      <td>92.000000</td>\n",
       "      <td>101.000000</td>\n",
       "      <td>81.000000</td>\n",
       "      <td>71.000000</td>\n",
       "      <td>91.000000</td>\n",
       "      <td>...</td>\n",
       "      <td>101.000000</td>\n",
       "      <td>81.000000</td>\n",
       "      <td>71.000000</td>\n",
       "      <td>91.500000</td>\n",
       "      <td>101.000000</td>\n",
       "      <td>81.000000</td>\n",
       "      <td>71.000000</td>\n",
       "      <td>91.000000</td>\n",
       "      <td>100.000000</td>\n",
       "      <td>81.000000</td>\n",
       "    </tr>\n",
       "    <tr>\n",
       "      <th>75%</th>\n",
       "      <td>84.000000</td>\n",
       "      <td>106.000000</td>\n",
       "      <td>113.000000</td>\n",
       "      <td>90.000000</td>\n",
       "      <td>83.000000</td>\n",
       "      <td>106.000000</td>\n",
       "      <td>113.000000</td>\n",
       "      <td>90.000000</td>\n",
       "      <td>83.000000</td>\n",
       "      <td>104.000000</td>\n",
       "      <td>...</td>\n",
       "      <td>113.000000</td>\n",
       "      <td>90.000000</td>\n",
       "      <td>83.000000</td>\n",
       "      <td>104.000000</td>\n",
       "      <td>113.000000</td>\n",
       "      <td>90.000000</td>\n",
       "      <td>82.000000</td>\n",
       "      <td>104.000000</td>\n",
       "      <td>112.000000</td>\n",
       "      <td>90.000000</td>\n",
       "    </tr>\n",
       "    <tr>\n",
       "      <th>max</th>\n",
       "      <td>104.000000</td>\n",
       "      <td>137.000000</td>\n",
       "      <td>139.000000</td>\n",
       "      <td>144.000000</td>\n",
       "      <td>104.000000</td>\n",
       "      <td>137.000000</td>\n",
       "      <td>139.000000</td>\n",
       "      <td>157.000000</td>\n",
       "      <td>104.000000</td>\n",
       "      <td>130.000000</td>\n",
       "      <td>...</td>\n",
       "      <td>139.000000</td>\n",
       "      <td>151.000000</td>\n",
       "      <td>104.000000</td>\n",
       "      <td>130.000000</td>\n",
       "      <td>139.000000</td>\n",
       "      <td>151.000000</td>\n",
       "      <td>104.000000</td>\n",
       "      <td>130.000000</td>\n",
       "      <td>138.000000</td>\n",
       "      <td>147.000000</td>\n",
       "    </tr>\n",
       "  </tbody>\n",
       "</table>\n",
       "<p>8 rows × 36 columns</p>\n",
       "</div>"
      ],
      "text/plain": [
       "                V1           V2           V3           V4           V5  \\\n",
       "count  5100.000000  5100.000000  5100.000000  5100.000000  5100.000000   \n",
       "mean     73.092157    91.578431    99.568627    79.827059    72.957843   \n",
       "std      11.876090    16.038819    15.611375    13.513639    11.772122   \n",
       "min      41.000000    28.000000    62.000000    44.000000    42.000000   \n",
       "25%      64.000000    79.000000    87.000000    70.000000    64.000000   \n",
       "50%      71.000000    92.000000   101.000000    81.000000    71.000000   \n",
       "75%      84.000000   106.000000   113.000000    90.000000    83.000000   \n",
       "max     104.000000   137.000000   139.000000   144.000000   104.000000   \n",
       "\n",
       "                V6           V7           V8           V9          V10  \\\n",
       "count  5100.000000  5100.000000  5100.000000  5100.000000  5100.000000   \n",
       "mean     91.425686    99.357843    79.643725    72.608039    90.861765   \n",
       "std      15.823086    15.585557    13.447272    11.716109    16.071067   \n",
       "min      29.000000    62.000000    46.000000    42.000000    29.000000   \n",
       "25%      79.000000    86.000000    69.000000    64.000000    79.000000   \n",
       "50%      92.000000   101.000000    81.000000    71.000000    91.000000   \n",
       "75%     106.000000   113.000000    90.000000    83.000000   104.000000   \n",
       "max     137.000000   139.000000   157.000000   104.000000   130.000000   \n",
       "\n",
       "          ...               V27          V28          V29          V30  \\\n",
       "count     ...       5100.000000  5100.000000  5100.000000  5100.000000   \n",
       "mean      ...         99.244902    79.695686    72.590588    91.187843   \n",
       "std       ...         15.721836    13.749900    11.815466    15.915964   \n",
       "min       ...         60.000000    44.000000    41.000000    27.000000   \n",
       "25%       ...         86.000000    69.000000    64.000000    79.000000   \n",
       "50%       ...        101.000000    81.000000    71.000000    91.500000   \n",
       "75%       ...        113.000000    90.000000    83.000000   104.000000   \n",
       "max       ...        139.000000   151.000000   104.000000   130.000000   \n",
       "\n",
       "               V31          V32          V33          V34          V35  \\\n",
       "count  5100.000000  5100.000000  5100.000000  5100.000000  5100.000000   \n",
       "mean     99.207451    79.615294    72.357647    90.856667    98.984510   \n",
       "std      15.735910    13.626149    11.711489    15.921349    15.712095   \n",
       "min      62.000000    42.000000    40.000000    27.000000    50.000000   \n",
       "25%      86.000000    69.000000    64.000000    79.000000    86.000000   \n",
       "50%     101.000000    81.000000    71.000000    91.000000   100.000000   \n",
       "75%     113.000000    90.000000    82.000000   104.000000   112.000000   \n",
       "max     139.000000   151.000000   104.000000   130.000000   138.000000   \n",
       "\n",
       "               V36  \n",
       "count  5100.000000  \n",
       "mean     79.492941  \n",
       "std      13.707023  \n",
       "min      29.000000  \n",
       "25%      68.000000  \n",
       "50%      81.000000  \n",
       "75%      90.000000  \n",
       "max     147.000000  \n",
       "\n",
       "[8 rows x 36 columns]"
      ]
     },
     "execution_count": 106,
     "metadata": {},
     "output_type": "execute_result"
    }
   ],
   "source": [
    "data.describe()"
   ]
  },
  {
   "cell_type": "code",
   "execution_count": 112,
   "metadata": {},
   "outputs": [
    {
     "name": "stderr",
     "output_type": "stream",
     "text": [
      "/Users/ssicard/Library/Python/3.4/lib/python/site-packages/ipykernel_launcher.py:3: RuntimeWarning: divide by zero encountered in log\n",
      "  This is separate from the ipykernel package so we can avoid doing imports until\n"
     ]
    }
   ],
   "source": [
    "# create column class which is going to be 0 (normal) or 1 (abnormal)\n",
    "data['Class'] = pd.Series(0, index=data.index)\n",
    "log_data = np.log(data[:-1])"
   ]
  },
  {
   "cell_type": "code",
   "execution_count": 22,
   "metadata": {},
   "outputs": [],
   "source": [
    "normal_data = data.loc[data[\"Class\"] == 0]\n",
    "fraud_data = data.loc[data[\"Class\"] == 1]"
   ]
  },
  {
   "cell_type": "code",
   "execution_count": 34,
   "metadata": {},
   "outputs": [
    {
     "data": {
      "text/plain": [
       "<matplotlib.figure.Figure at 0x1236794a8>"
      ]
     },
     "metadata": {},
     "output_type": "display_data"
    }
   ],
   "source": [
    "plt.figure();"
   ]
  },
  {
   "cell_type": "code",
   "execution_count": 109,
   "metadata": {},
   "outputs": [
    {
     "data": {
      "image/png": "[encoded data removed]",
      "text/plain": [
       "<matplotlib.figure.Figure at 0x122e53e10>"
      ]
     },
     "metadata": {},
     "output_type": "display_data"
    }
   ],
   "source": [
    "matplotlib.style.use('ggplot')\n",
    "pca_columns = list(data)[0:-1]\n",
    "normal_data[pca_columns].hist(stacked=False, bins=100, figsize=(12,30), layout=(36,2));"
   ]
  },
  {
   "cell_type": "code",
   "execution_count": 121,
   "metadata": {},
   "outputs": [
    {
     "data": {
      "image/png": "[encoded data removed]",
      "text/plain": [
       "<matplotlib.figure.Figure at 0x11fa10898>"
      ]
     },
     "metadata": {},
     "output_type": "display_data"
    }
   ],
   "source": [
    "normal_pca_data = normal_data[pca_columns]\n",
    "fraud_pca_data = fraud_data[pca_columns]\n",
    "plt.matshow(normal_pca_data.corr());"
   ]
  },
  {
   "cell_type": "code",
   "execution_count": 122,
   "metadata": {},
   "outputs": [],
   "source": [
    "num_test = 5100\n",
    "shuffled_data = normal_pca_data.sample(frac=1)[:-num_test].values\n",
    "\n",
    "X_train = shuffled_data[:-1*num_test]\n",
    "\n",
    "X_valid = np.concatenate([shuffled_data[-1*num_test:-num_test], fraud_pca_data[:246]])\n",
    "y_valid = np.concatenate([np.zeros(num_test), np.ones(246)])\n",
    "\n",
    "X_test = np.concatenate([shuffled_data[-num_test:], fraud_pca_data[246:]])\n",
    "y_test = np.concatenate([np.zeros(num_test), np.ones(246)])"
   ]
  },
  {
   "cell_type": "code",
   "execution_count": 126,
   "metadata": {},
   "outputs": [
    {
     "data": {
      "text/plain": [
       "array([], shape=(0, 36), dtype=int64)"
      ]
     },
     "execution_count": 126,
     "metadata": {},
     "output_type": "execute_result"
    }
   ],
   "source": [
    "X_test"
   ]
  },
  {
   "cell_type": "code",
   "execution_count": 97,
   "metadata": {},
   "outputs": [],
   "source": [
    "def covariance_matrix(X):\n",
    "    m, n = X.shape \n",
    "    tmp_mat = np.zeros((n, n))\n",
    "    mu = X.mean(axis=0)\n",
    "    for i in range(m):\n",
    "        tmp_mat += np.outer(X[i] - mu, X[i] - mu)\n",
    "    return tmp_mat / m"
   ]
  },
  {
   "cell_type": "code",
   "execution_count": 98,
   "metadata": {},
   "outputs": [],
   "source": [
    "#cov_mat = covariance_matrix(X_train)\n",
    "cov_mat = np.cov(X_train)"
   ]
  },
  {
   "cell_type": "code",
   "execution_count": 99,
   "metadata": {},
   "outputs": [
    {
     "name": "stdout",
     "output_type": "stream",
     "text": [
      "[]\n"
     ]
    }
   ],
   "source": [
    "print(cov_mat)"
   ]
  },
  {
   "cell_type": "code",
   "execution_count": 100,
   "metadata": {},
   "outputs": [
    {
     "data": {
      "text/plain": [
       "array([], shape=(0, 35), dtype=int64)"
      ]
     },
     "execution_count": 100,
     "metadata": {},
     "output_type": "execute_result"
    }
   ],
   "source": [
    "X_train"
   ]
  },
  {
   "cell_type": "code",
   "execution_count": 101,
   "metadata": {},
   "outputs": [],
   "source": [
    "cov_mat_inv = np.linalg.pinv(cov_mat)\n",
    "cov_mat_det = np.linalg.det(cov_mat)\n",
    "def multi_gauss(x):\n",
    "    n = len(cov_mat)\n",
    "    return (np.exp(-0.5 * np.dot(x, np.dot(cov_mat_inv, x.T))) \n",
    "            / (2. * np.pi)**(n/2.) \n",
    "            / np.sqrt(cov_mat_det))"
   ]
  },
  {
   "cell_type": "code",
   "execution_count": 102,
   "metadata": {},
   "outputs": [],
   "source": [
    "from sklearn.metrics import confusion_matrix\n",
    "\n",
    "def stats(X_test, y_test, eps):\n",
    "    predictions = np.array([multi_gauss(x) <= eps for x in X_test], dtype=bool)\n",
    "    y_test = np.array(y_test, dtype=bool)\n",
    "    tn, fp, fn, tp = confusion_matrix(y_test, predictions).ravel()\n",
    "    recall = tp / (tp + fn)\n",
    "    prec = tp / (tp + fp)\n",
    "    F1 = 2 * recall * prec / (recall + prec)\n",
    "    return recall, prec, F1"
   ]
  },
  {
   "cell_type": "code",
   "execution_count": 103,
   "metadata": {},
   "outputs": [
    {
     "ename": "ValueError",
     "evalue": "max() arg is an empty sequence",
     "output_type": "error",
     "traceback": [
      "\u001b[0;31m---------------------------------------------------------------------------\u001b[0m",
      "\u001b[0;31mValueError\u001b[0m                                Traceback (most recent call last)",
      "\u001b[0;32m<ipython-input-103-1728b1297682>\u001b[0m in \u001b[0;36m<module>\u001b[0;34m()\u001b[0m\n\u001b[0;32m----> 1\u001b[0;31m \u001b[0meps\u001b[0m \u001b[0;34m=\u001b[0m \u001b[0mmax\u001b[0m\u001b[0;34m(\u001b[0m\u001b[0;34m[\u001b[0m\u001b[0mmulti_gauss\u001b[0m\u001b[0;34m(\u001b[0m\u001b[0mx\u001b[0m\u001b[0;34m)\u001b[0m \u001b[0;32mfor\u001b[0m \u001b[0mx\u001b[0m \u001b[0;32min\u001b[0m \u001b[0mfraud_pca_data\u001b[0m\u001b[0;34m.\u001b[0m\u001b[0mvalues\u001b[0m\u001b[0;34m]\u001b[0m\u001b[0;34m)\u001b[0m\u001b[0;34m\u001b[0m\u001b[0m\n\u001b[0m\u001b[1;32m      2\u001b[0m \u001b[0mprint\u001b[0m\u001b[0;34m(\u001b[0m\u001b[0meps\u001b[0m\u001b[0;34m)\u001b[0m\u001b[0;34m\u001b[0m\u001b[0m\n",
      "\u001b[0;31mValueError\u001b[0m: max() arg is an empty sequence"
     ]
    }
   ],
   "source": [
    "eps = max([multi_gauss(x) for x in fraud_pca_data.values])\n",
    "print(eps)"
   ]
  },
  {
   "cell_type": "code",
   "execution_count": null,
   "metadata": {},
   "outputs": [],
   "source": []
  },
  {
   "cell_type": "code",
   "execution_count": null,
   "metadata": {},
   "outputs": [],
   "source": []
  },
  {
   "cell_type": "code",
   "execution_count": null,
   "metadata": {},
   "outputs": [],
   "source": []
  },
  {
   "cell_type": "code",
   "execution_count": null,
   "metadata": {},
   "outputs": [],
   "source": []
  },
  {
   "cell_type": "code",
   "execution_count": null,
   "metadata": {},
   "outputs": [],
   "source": []
  },
  {
   "cell_type": "code",
   "execution_count": null,
   "metadata": {},
   "outputs": [],
   "source": []
  },
  {
   "cell_type": "code",
   "execution_count": null,
   "metadata": {},
   "outputs": [],
   "source": []
  },
  {
   "cell_type": "code",
   "execution_count": null,
   "metadata": {},
   "outputs": [],
   "source": []
  },
  {
   "cell_type": "code",
   "execution_count": null,
   "metadata": {},
   "outputs": [],
   "source": []
  },
  {
   "cell_type": "code",
   "execution_count": null,
   "metadata": {},
   "outputs": [],
   "source": []
  },
  {
   "cell_type": "code",
   "execution_count": null,
   "metadata": {},
   "outputs": [],
   "source": []
  },
  {
   "cell_type": "code",
   "execution_count": 3,
   "metadata": {},
   "outputs": [
    {
     "data": {
      "text/plain": [
       "(5101, 36)"
      ]
     },
     "execution_count": 3,
     "metadata": {},
     "output_type": "execute_result"
    }
   ],
   "source": [
    "X.shape"
   ]
  },
  {
   "cell_type": "code",
   "execution_count": 4,
   "metadata": {},
   "outputs": [
    {
     "data": {
      "image/png": "[encoded data removed]",
      "text/plain": [
       "<matplotlib.figure.Figure at 0x109af3b00>"
      ]
     },
     "metadata": {},
     "output_type": "display_data"
    }
   ],
   "source": [
    "plt.scatter(X[:,1], X[:,2])\n",
    "plt.show()\n",
    "#fig, ax = plt.subplots(figsize=(200, 200))\n",
    "#ax.scatter(X[:,0], X[:,1])"
   ]
  },
  {
   "cell_type": "code",
   "execution_count": 5,
   "metadata": {},
   "outputs": [
    {
     "data": {
      "text/plain": [
       "array([  46.,   40.,  119.,  139.,   42.,   30.,  135.,  157.,   42.,\n",
       "         30.,  140.,  150.,   50.,   43.,  110.,  115.,   44.,   34.,\n",
       "        129.,  143.,   42.,   29.,  135.,  150.,   50.,   40.,  115.,\n",
       "        113.,   50.,   46.,  111.,  116.,   44.,   31.,  131.,  142.])"
      ]
     },
     "execution_count": 5,
     "metadata": {},
     "output_type": "execute_result"
    }
   ],
   "source": [
    "X[1,:]"
   ]
  },
  {
   "cell_type": "code",
   "execution_count": 6,
   "metadata": {},
   "outputs": [],
   "source": [
    "mus = np.zeros(shape=(X.shape[1]))\n",
    "sigmas = np.zeros(shape=(X.shape[1]))"
   ]
  },
  {
   "cell_type": "code",
   "execution_count": 7,
   "metadata": {},
   "outputs": [
    {
     "data": {
      "text/plain": [
       "(36,)"
      ]
     },
     "execution_count": 7,
     "metadata": {},
     "output_type": "execute_result"
    }
   ],
   "source": [
    "mus.shape\n",
    "sigmas.shape"
   ]
  },
  {
   "cell_type": "code",
   "execution_count": 10,
   "metadata": {},
   "outputs": [
    {
     "data": {
      "text/plain": [
       "(5101, 36)"
      ]
     },
     "execution_count": 10,
     "metadata": {},
     "output_type": "execute_result"
    }
   ],
   "source": [
    "X.shape"
   ]
  },
  {
   "cell_type": "code",
   "execution_count": 11,
   "metadata": {},
   "outputs": [],
   "source": [
    "from scipy.stats import multivariate_normal\n",
    "x = np.linspace()"
   ]
  },
  {
   "cell_type": "code",
   "execution_count": 33,
   "metadata": {},
   "outputs": [
    {
     "name": "stdout",
     "output_type": "stream",
     "text": [
      "mu -> 85.63888888888889\n",
      "sigma -> 2149.175154320988\n",
      "mu -> 85.33333333333333\n",
      "sigma -> 1872.611111111111\n",
      "mu -> 85.0\n",
      "sigma -> 410.5\n",
      "mu -> 59.916666666666664\n",
      "sigma -> 67.52083333333333\n",
      "mu -> 85.25\n",
      "sigma -> 2278.6875\n",
      "mu -> 81.33333333333333\n",
      "sigma -> 1244.7777777777778\n",
      "mu -> 59.27777777777778\n",
      "sigma -> 93.97839506172839\n",
      "mu -> 87.52777777777777\n",
      "sigma -> 2507.6381172839506\n",
      "mu -> 72.19444444444444\n",
      "sigma -> 1247.7121913580247\n",
      "mu -> 77.80555555555556\n",
      "sigma -> 213.48996913580245\n",
      "mu -> 75.80555555555556\n",
      "sigma -> 1272.2677469135804\n",
      "mu -> 67.19444444444444\n",
      "sigma -> 96.87885802469137\n",
      "mu -> 71.86111111111111\n",
      "sigma -> 334.9529320987654\n",
      "mu -> 79.05555555555556\n",
      "sigma -> 1661.1635802469136\n",
      "mu -> 72.44444444444444\n",
      "sigma -> 122.02469135802468\n",
      "mu -> 75.72222222222223\n",
      "sigma -> 71.81172839506172\n",
      "mu -> 81.83333333333333\n",
      "sigma -> 1793.361111111111\n",
      "mu -> 80.27777777777777\n",
      "sigma -> 1797.4228395061732\n",
      "mu -> 81.86111111111111\n",
      "sigma -> 861.008487654321\n",
      "mu -> 71.55555555555556\n",
      "sigma -> 213.6358024691358\n",
      "mu -> 87.97222222222223\n",
      "sigma -> 2483.971450617284\n",
      "mu -> 82.58333333333333\n",
      "sigma -> 1082.1319444444443\n",
      "mu -> 78.86111111111111\n",
      "sigma -> 200.34182098765436\n",
      "mu -> 67.52777777777777\n",
      "sigma -> 862.5270061728394\n",
      "mu -> 71.58333333333333\n",
      "sigma -> 935.5763888888889\n",
      "mu -> 69.02777777777777\n",
      "sigma -> 83.30478395061729\n",
      "mu -> 74.55555555555556\n",
      "sigma -> 1234.0802469135804\n",
      "mu -> 88.75\n",
      "sigma -> 2720.5208333333335\n",
      "mu -> 78.69444444444444\n",
      "sigma -> 640.656635802469\n",
      "mu -> 82.75\n",
      "sigma -> 1500.298611111111\n",
      "mu -> 72.38888888888889\n",
      "sigma -> 144.90432098765433\n",
      "mu -> 75.30555555555556\n",
      "sigma -> 828.3233024691358\n",
      "mu -> 75.38888888888889\n",
      "sigma -> 444.8487654320988\n",
      "mu -> 79.11111111111111\n",
      "sigma -> 1575.7654320987654\n",
      "mu -> 72.44444444444444\n",
      "sigma -> 119.6358024691358\n"
     ]
    }
   ],
   "source": [
    "for i in range(1, X.shape[1]):\n",
    "    [mu, sigma] = estimateGaussian(X[i][:])\n",
    "    mus[i - 1] = mu;\n",
    "    sigmas[i - 1] = sigma;\n",
    "    print('mu -> {}'.format(mu))\n",
    "    print('sigma -> {}'.format(sigma))"
   ]
  },
  {
   "cell_type": "code",
   "execution_count": null,
   "metadata": {},
   "outputs": [],
   "source": []
  },
  {
   "cell_type": "code",
   "execution_count": 34,
   "metadata": {},
   "outputs": [
    {
     "data": {
      "text/plain": [
       "array([ 85.63888889,  85.33333333,  85.        ,  59.91666667,\n",
       "        85.25      ,  81.33333333,  59.27777778,  87.52777778,\n",
       "        72.19444444,  77.80555556,  75.80555556,  67.19444444,\n",
       "        71.86111111,  79.05555556,  72.44444444,  75.72222222,\n",
       "        81.83333333,  80.27777778,  81.86111111,  71.55555556,\n",
       "        87.97222222,  82.58333333,  78.86111111,  67.52777778,\n",
       "        71.58333333,  69.02777778,  74.55555556,  88.75      ,\n",
       "        78.69444444,  82.75      ,  72.38888889,  75.30555556,\n",
       "        75.38888889,  79.11111111,  72.44444444,  72.44444444])"
      ]
     },
     "execution_count": 34,
     "metadata": {},
     "output_type": "execute_result"
    }
   ],
   "source": [
    "mus"
   ]
  },
  {
   "cell_type": "code",
   "execution_count": 35,
   "metadata": {},
   "outputs": [
    {
     "data": {
      "text/plain": [
       "array([ 2149.17515432,  1872.61111111,   410.5       ,    67.52083333,\n",
       "        2278.6875    ,  1244.77777778,    93.97839506,  2507.63811728,\n",
       "        1247.71219136,   213.48996914,  1272.26774691,    96.87885802,\n",
       "         334.9529321 ,  1661.16358025,   122.02469136,    71.8117284 ,\n",
       "        1793.36111111,  1797.42283951,   861.00848765,   213.63580247,\n",
       "        2483.97145062,  1082.13194444,   200.34182099,   862.52700617,\n",
       "         935.57638889,    83.30478395,  1234.08024691,  2720.52083333,\n",
       "         640.6566358 ,  1500.29861111,   144.90432099,   828.32330247,\n",
       "         444.84876543,  1575.7654321 ,   119.63580247,   119.63580247])"
      ]
     },
     "execution_count": 35,
     "metadata": {},
     "output_type": "execute_result"
    }
   ],
   "source": [
    "sigmas"
   ]
  },
  {
   "cell_type": "code",
   "execution_count": 36,
   "metadata": {},
   "outputs": [
    {
     "data": {
      "text/plain": [
       "(36,)"
      ]
     },
     "execution_count": 36,
     "metadata": {},
     "output_type": "execute_result"
    }
   ],
   "source": [
    "np.transpose(mus[:]).shape"
   ]
  },
  {
   "cell_type": "code",
   "execution_count": 90,
   "metadata": {},
   "outputs": [
    {
     "data": {
      "text/plain": [
       "(5101, 36)"
      ]
     },
     "execution_count": 90,
     "metadata": {},
     "output_type": "execute_result"
    }
   ],
   "source": [
    "X.shape"
   ]
  },
  {
   "cell_type": "code",
   "execution_count": 44,
   "metadata": {},
   "outputs": [],
   "source": [
    "def mvGaussian(X, mus, sigmas):\n",
    "    tmp1 = np.exp( -((X[1:] - mus) ** 2)/(2 * sigmas) )\n",
    "    tmp2 = ( 1 / ( np.sqrt((2 * np.pi)) * np.sqrt(sigmas) ) )  \n",
    "    #tmp2 = 1 / (np.sqrt((2 * math.pi)) * np.sqrt(sigmas))\n",
    "    tmp3 = np.dot(tmp1, np.transpose(tmp2))\n",
    "    print('tmp1 => {}'.format(tmp1))\n",
    "    print('tmp1.shape -> {}'.format(tmp1.shape))\n",
    "    print('tmp2 => {}'.format(tmp2))\n",
    "    print('tmp2.shape -> {}'.format(tmp2.shape))\n",
    "    print('tmp3 => {}'.format(tmp3))\n",
    "    print('tmp3.shape -> {}'.format(tmp3.shape))\n",
    "    return tmp3"
   ]
  },
  {
   "cell_type": "code",
   "execution_count": 45,
   "metadata": {},
   "outputs": [
    {
     "name": "stdout",
     "output_type": "stream",
     "text": [
      "tmp1 => [[  6.93818247e-01   5.77683724e-01   2.44622524e-01 ...,   4.79763601e-01\n",
      "    5.97828248e-07   1.65478208e-09]\n",
      " [  7.06569208e-01   5.35926810e-01   2.44622524e-01 ...,   4.50771456e-01\n",
      "    2.20895390e-07   9.21360244e-10]\n",
      " [  9.92629789e-01   9.75358379e-01   7.60289476e-01 ...,   9.95212730e-01\n",
      "    9.83746442e-02   9.89937967e-01]\n",
      " ..., \n",
      " [  9.30173941e-01   9.71892188e-01   5.25010942e-01 ...,   8.70702301e-01\n",
      "    1.55825814e-02   5.17450644e-01]\n",
      " [  9.51366740e-01   9.99258589e-01   5.25010942e-01 ...,   9.56141038e-01\n",
      "    1.55825814e-02   5.17450644e-01]\n",
      " [  9.51366740e-01   9.91462764e-01   7.60289476e-01 ...,   9.56141038e-01\n",
      "    4.18603055e-02   7.36446882e-01]]\n",
      "tmp1.shape -> (5100, 36)\n",
      "tmp2 => [ 0.00860546  0.00921905  0.01969035  0.04855022  0.00835733  0.01130744\n",
      "  0.04115248  0.00796668  0.01129413  0.02730369  0.01118461  0.04053177\n",
      "  0.02179808  0.00978822  0.03611488  0.04707739  0.00942055  0.0094099\n",
      "  0.01359585  0.02729437  0.00800455  0.01212746  0.0281854   0.01358388\n",
      "  0.01304279  0.04370943  0.01135634  0.00764864  0.01576149  0.01029962\n",
      "  0.03314129  0.0138615   0.01891489  0.01004996  0.03647367  0.03647367]\n",
      "tmp2.shape -> (36,)\n",
      "tmp3 => [ 0.13457544  0.18910419  0.37888474 ...,  0.35256152  0.36855579\n",
      "  0.38426165]\n",
      "tmp3.shape -> (5100,)\n"
     ]
    }
   ],
   "source": [
    "pval = mvGaussian(X, mus, sigmas)"
   ]
  },
  {
   "cell_type": "code",
   "execution_count": 48,
   "metadata": {},
   "outputs": [
    {
     "data": {
      "text/plain": [
       "array([ 0.13457544,  0.18910419,  0.37888474, ...,  0.35256152,\n",
       "        0.36855579,  0.38426165])"
      ]
     },
     "execution_count": 48,
     "metadata": {},
     "output_type": "execute_result"
    }
   ],
   "source": [
    "pval"
   ]
  },
  {
   "cell_type": "code",
   "execution_count": 49,
   "metadata": {},
   "outputs": [
    {
     "data": {
      "text/plain": [
       "(5100,)"
      ]
     },
     "execution_count": 49,
     "metadata": {},
     "output_type": "execute_result"
    }
   ],
   "source": [
    "pval.shape"
   ]
  },
  {
   "cell_type": "code",
   "execution_count": 50,
   "metadata": {},
   "outputs": [
    {
     "data": {
      "text/plain": [
       "<matplotlib.text.Text at 0x10a5974a8>"
      ]
     },
     "execution_count": 50,
     "metadata": {},
     "output_type": "execute_result"
    },
    {
     "data": {
      "image/png": "[encoded data removed]",
      "text/plain": [
       "<matplotlib.figure.Figure at 0x10a582ac8>"
      ]
     },
     "metadata": {},
     "output_type": "display_data"
    }
   ],
   "source": [
    "plt.plot(pval, 'go')\n",
    "plt.title(\"Distribution of anormalities\")\n",
    "plt.xlabel(\"\")"
   ]
  },
  {
   "cell_type": "code",
   "execution_count": 51,
   "metadata": {},
   "outputs": [
    {
     "data": {
      "image/png": "[encoded data removed]",
      "text/plain": [
       "<matplotlib.figure.Figure at 0x10a582940>"
      ]
     },
     "metadata": {},
     "output_type": "display_data"
    }
   ],
   "source": [
    "plt.plot(pval, 'go')\n",
    "plt.axis([0, 100, 0, 0.6])\n",
    "plt.show()"
   ]
  },
  {
   "cell_type": "code",
   "execution_count": 52,
   "metadata": {},
   "outputs": [],
   "source": [
    "epsilon = 0.20"
   ]
  },
  {
   "cell_type": "code",
   "execution_count": 53,
   "metadata": {},
   "outputs": [],
   "source": [
    "outliers = np.zeros(shape=(2, X.shape[0]))"
   ]
  },
  {
   "cell_type": "code",
   "execution_count": 54,
   "metadata": {},
   "outputs": [
    {
     "data": {
      "text/plain": [
       "(2, 5101)"
      ]
     },
     "execution_count": 54,
     "metadata": {},
     "output_type": "execute_result"
    }
   ],
   "source": [
    "outliers.shape"
   ]
  },
  {
   "cell_type": "code",
   "execution_count": 55,
   "metadata": {},
   "outputs": [],
   "source": [
    "for i in range(0, len(pval)):\n",
    "    if pval[i] < epsilon:\n",
    "        outliers[1][i] = int(1)\n",
    "    else:\n",
    "        outliers[1][i] = int(0)\n",
    "    outliers[0][i] = pval[i]"
   ]
  },
  {
   "cell_type": "code",
   "execution_count": 56,
   "metadata": {},
   "outputs": [
    {
     "data": {
      "text/plain": [
       "array([[ 0.13457544,  0.18910419,  0.37888474, ...,  0.36855579,\n",
       "         0.38426165,  0.        ],\n",
       "       [ 1.        ,  1.        ,  0.        , ...,  0.        ,\n",
       "         0.        ,  0.        ]])"
      ]
     },
     "execution_count": 56,
     "metadata": {},
     "output_type": "execute_result"
    }
   ],
   "source": [
    "outliers"
   ]
  },
  {
   "cell_type": "code",
   "execution_count": 271,
   "metadata": {},
   "outputs": [
    {
     "data": {
      "text/plain": [
       "(5101, 36)"
      ]
     },
     "execution_count": 271,
     "metadata": {},
     "output_type": "execute_result"
    }
   ],
   "source": [
    "X.shape"
   ]
  }
 ],
 "metadata": {
  "kernelspec": {
   "display_name": "Python 3",
   "language": "python",
   "name": "python3"
  },
  "language_info": {
   "codemirror_mode": {
    "name": "ipython",
    "version": 3
   },
   "file_extension": ".py",
   "mimetype": "text/x-python",
   "name": "python",
   "nbconvert_exporter": "python",
   "pygments_lexer": "ipython3",
   "version": "3.4.4"
  }
 },
 "nbformat": 4,
 "nbformat_minor": 2
}
