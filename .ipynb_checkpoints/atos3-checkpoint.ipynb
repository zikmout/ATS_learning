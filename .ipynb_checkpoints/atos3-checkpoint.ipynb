{
 "cells": [
  {
   "cell_type": "code",
   "execution_count": 1,
   "metadata": {},
   "outputs": [],
   "source": [
    "import numpy as np\n",
    "from numpy import genfromtxt\n",
    "from scipy import stats\n",
    "import pandas as pd\n",
    "import matplotlib.pyplot as plt\n",
    "import seaborn as sb\n",
    "import csv\n",
    "from scipy.io import loadmat\n",
    "import math\n",
    "%matplotlib inline"
   ]
  },
  {
   "cell_type": "code",
   "execution_count": 2,
   "metadata": {},
   "outputs": [],
   "source": [
    "X = genfromtxt('mydata.csv', delimiter=',')"
   ]
  },
  {
   "cell_type": "code",
   "execution_count": 3,
   "metadata": {},
   "outputs": [
    {
     "data": {
      "text/plain": [
       "(5101, 36)"
      ]
     },
     "execution_count": 3,
     "metadata": {},
     "output_type": "execute_result"
    }
   ],
   "source": [
    "X.shape"
   ]
  },
  {
   "cell_type": "code",
   "execution_count": 4,
   "metadata": {},
   "outputs": [
    {
     "data": {
      "image/png": "[encoded data removed]",
      "text/plain": [
       "<matplotlib.figure.Figure at 0x109af5ac8>"
      ]
     },
     "metadata": {},
     "output_type": "display_data"
    }
   ],
   "source": [
    "plt.scatter(X[:,1], X[:,2])\n",
    "plt.show()\n",
    "#fig, ax = plt.subplots(figsize=(200, 200))\n",
    "#ax.scatter(X[:,0], X[:,1])"
   ]
  },
  {
   "cell_type": "code",
   "execution_count": 5,
   "metadata": {},
   "outputs": [
    {
     "data": {
      "text/plain": [
       "array([  46.,   40.,  119.,  139.,   42.,   30.,  135.,  157.,   42.,\n",
       "         30.,  140.,  150.,   50.,   43.,  110.,  115.,   44.,   34.,\n",
       "        129.,  143.,   42.,   29.,  135.,  150.,   50.,   40.,  115.,\n",
       "        113.,   50.,   46.,  111.,  116.,   44.,   31.,  131.,  142.])"
      ]
     },
     "execution_count": 5,
     "metadata": {},
     "output_type": "execute_result"
    }
   ],
   "source": [
    "X[1,:]"
   ]
  },
  {
   "cell_type": "code",
   "execution_count": 6,
   "metadata": {},
   "outputs": [],
   "source": [
    "def estimateGaussian(X):\n",
    "    mu = X.mean(axis=0)\n",
    "    sigma = X.var(axis=0)\n",
    "    return mu, sigma"
   ]
  },
  {
   "cell_type": "code",
   "execution_count": 7,
   "metadata": {},
   "outputs": [],
   "source": [
    "mus = np.zeros(shape=(X.shape[1]))\n",
    "sigmas = np.zeros(shape=(X.shape[1]))"
   ]
  },
  {
   "cell_type": "code",
   "execution_count": 8,
   "metadata": {},
   "outputs": [
    {
     "data": {
      "text/plain": [
       "(36,)"
      ]
     },
     "execution_count": 8,
     "metadata": {},
     "output_type": "execute_result"
    }
   ],
   "source": [
    "mus.shape\n",
    "sigmas.shape"
   ]
  },
  {
   "cell_type": "code",
   "execution_count": 28,
   "metadata": {},
   "outputs": [
    {
     "name": "stdout",
     "output_type": "stream",
     "text": [
      "mu -> 85.63888888888889\n",
      "sigma -> 2149.175154320988\n",
      "mu -> 85.33333333333333\n",
      "sigma -> 1872.611111111111\n",
      "mu -> 85.0\n",
      "sigma -> 410.5\n",
      "mu -> 59.916666666666664\n",
      "sigma -> 67.52083333333333\n",
      "mu -> 85.25\n",
      "sigma -> 2278.6875\n",
      "mu -> 81.33333333333333\n",
      "sigma -> 1244.7777777777778\n",
      "mu -> 59.27777777777778\n",
      "sigma -> 93.97839506172839\n",
      "mu -> 87.52777777777777\n",
      "sigma -> 2507.6381172839506\n",
      "mu -> 72.19444444444444\n",
      "sigma -> 1247.7121913580247\n",
      "mu -> 77.80555555555556\n",
      "sigma -> 213.48996913580245\n",
      "mu -> 75.80555555555556\n",
      "sigma -> 1272.2677469135804\n",
      "mu -> 67.19444444444444\n",
      "sigma -> 96.87885802469137\n",
      "mu -> 71.86111111111111\n",
      "sigma -> 334.9529320987654\n",
      "mu -> 79.05555555555556\n",
      "sigma -> 1661.1635802469136\n",
      "mu -> 72.44444444444444\n",
      "sigma -> 122.02469135802468\n",
      "mu -> 75.72222222222223\n",
      "sigma -> 71.81172839506172\n",
      "mu -> 81.83333333333333\n",
      "sigma -> 1793.361111111111\n",
      "mu -> 80.27777777777777\n",
      "sigma -> 1797.4228395061732\n",
      "mu -> 81.86111111111111\n",
      "sigma -> 861.008487654321\n",
      "mu -> 71.55555555555556\n",
      "sigma -> 213.6358024691358\n",
      "mu -> 87.97222222222223\n",
      "sigma -> 2483.971450617284\n",
      "mu -> 82.58333333333333\n",
      "sigma -> 1082.1319444444443\n",
      "mu -> 78.86111111111111\n",
      "sigma -> 200.34182098765436\n",
      "mu -> 67.52777777777777\n",
      "sigma -> 862.5270061728394\n",
      "mu -> 71.58333333333333\n",
      "sigma -> 935.5763888888889\n",
      "mu -> 69.02777777777777\n",
      "sigma -> 83.30478395061729\n",
      "mu -> 74.55555555555556\n",
      "sigma -> 1234.0802469135804\n",
      "mu -> 88.75\n",
      "sigma -> 2720.5208333333335\n",
      "mu -> 78.69444444444444\n",
      "sigma -> 640.656635802469\n",
      "mu -> 82.75\n",
      "sigma -> 1500.298611111111\n",
      "mu -> 72.38888888888889\n",
      "sigma -> 144.90432098765433\n",
      "mu -> 75.30555555555556\n",
      "sigma -> 828.3233024691358\n",
      "mu -> 75.38888888888889\n",
      "sigma -> 444.8487654320988\n",
      "mu -> 79.11111111111111\n",
      "sigma -> 1575.7654320987654\n",
      "mu -> 72.44444444444444\n",
      "sigma -> 119.6358024691358\n",
      "mu -> 55.47222222222222\n",
      "sigma -> 53.5270061728395\n"
     ]
    }
   ],
   "source": [
    "for i in range(1, X.shape[1] + 1):\n",
    "    [mu, sigma] = estimateGaussian(X[i][:])\n",
    "    mus[i - 1] = mu;\n",
    "    sigmas[i - 1] = sigma;\n",
    "    print('mu -> {}'.format(mu))\n",
    "    print('sigma -> {}'.format(sigma))"
   ]
  },
  {
   "cell_type": "code",
   "execution_count": 30,
   "metadata": {},
   "outputs": [
    {
     "data": {
      "text/plain": [
       "array([ 85.63888889,  85.33333333,  85.        ,  59.91666667,\n",
       "        85.25      ,  81.33333333,  59.27777778,  87.52777778,\n",
       "        72.19444444,  77.80555556,  75.80555556,  67.19444444,\n",
       "        71.86111111,  79.05555556,  72.44444444,  75.72222222,\n",
       "        81.83333333,  80.27777778,  81.86111111,  71.55555556,\n",
       "        87.97222222,  82.58333333,  78.86111111,  67.52777778,\n",
       "        71.58333333,  69.02777778,  74.55555556,  88.75      ,\n",
       "        78.69444444,  82.75      ,  72.38888889,  75.30555556,\n",
       "        75.38888889,  79.11111111,  72.44444444,  55.47222222])"
      ]
     },
     "execution_count": 30,
     "metadata": {},
     "output_type": "execute_result"
    }
   ],
   "source": [
    "mus"
   ]
  },
  {
   "cell_type": "code",
   "execution_count": 31,
   "metadata": {},
   "outputs": [
    {
     "data": {
      "text/plain": [
       "array([ 2149.17515432,  1872.61111111,   410.5       ,    67.52083333,\n",
       "        2278.6875    ,  1244.77777778,    93.97839506,  2507.63811728,\n",
       "        1247.71219136,   213.48996914,  1272.26774691,    96.87885802,\n",
       "         334.9529321 ,  1661.16358025,   122.02469136,    71.8117284 ,\n",
       "        1793.36111111,  1797.42283951,   861.00848765,   213.63580247,\n",
       "        2483.97145062,  1082.13194444,   200.34182099,   862.52700617,\n",
       "         935.57638889,    83.30478395,  1234.08024691,  2720.52083333,\n",
       "         640.6566358 ,  1500.29861111,   144.90432099,   828.32330247,\n",
       "         444.84876543,  1575.7654321 ,   119.63580247,    53.52700617])"
      ]
     },
     "execution_count": 31,
     "metadata": {},
     "output_type": "execute_result"
    }
   ],
   "source": [
    "sigmas"
   ]
  },
  {
   "cell_type": "code",
   "execution_count": 32,
   "metadata": {},
   "outputs": [
    {
     "data": {
      "text/plain": [
       "(36,)"
      ]
     },
     "execution_count": 32,
     "metadata": {},
     "output_type": "execute_result"
    }
   ],
   "source": [
    "np.transpose(mus[:]).shape"
   ]
  },
  {
   "cell_type": "code",
   "execution_count": 33,
   "metadata": {},
   "outputs": [
    {
     "data": {
      "text/plain": [
       "(5101, 36)"
      ]
     },
     "execution_count": 33,
     "metadata": {},
     "output_type": "execute_result"
    }
   ],
   "source": [
    "X.shape"
   ]
  },
  {
   "cell_type": "code",
   "execution_count": 34,
   "metadata": {},
   "outputs": [],
   "source": [
    "def mvGaussian(X, mus, sigmas):\n",
    "    tmp1 = np.exp( -((X[1:] - mus) ** 2)/(2 * sigmas) )\n",
    "    tmp2 = ( 1 / ( np.sqrt((2 * np.pi)) * np.sqrt(sigmas) ) )  \n",
    "    tmp3 = np.dot(tmp1, np.transpose(tmp2))\n",
    "    print('tmp1 => {}'.format(tmp1))\n",
    "    print('tmp1.shape -> {}'.format(tmp1.shape))\n",
    "    print('tmp2 => {}'.format(tmp2))\n",
    "    print('tmp2.shape -> {}'.format(tmp2.shape))\n",
    "    print('tmp3 => {}'.format(tmp3))\n",
    "    print('tmp3.shape -> {}'.format(tmp3.shape))\n",
    "    return tmp3"
   ]
  },
  {
   "cell_type": "code",
   "execution_count": 35,
   "metadata": {},
   "outputs": [
    {
     "name": "stdout",
     "output_type": "stream",
     "text": [
      "tmp1 => [[  6.93818247e-01   5.77683724e-01   2.44622524e-01 ...,   4.79763601e-01\n",
      "    5.97828248e-07   4.23317505e-31]\n",
      " [  7.06569208e-01   5.35926810e-01   2.44622524e-01 ...,   4.50771456e-01\n",
      "    2.20895390e-07   8.32839443e-32]\n",
      " [  9.92629789e-01   9.75358379e-01   7.60289476e-01 ...,   9.95212730e-01\n",
      "    9.83746442e-02   4.04943795e-02]\n",
      " ..., \n",
      " [  9.30173941e-01   9.71892188e-01   5.25010942e-01 ...,   8.70702301e-01\n",
      "    1.55825814e-02   2.90359628e-04]\n",
      " [  9.51366740e-01   9.99258589e-01   5.25010942e-01 ...,   9.56141038e-01\n",
      "    1.55825814e-02   2.90359628e-04]\n",
      " [  9.51366740e-01   9.91462764e-01   7.60289476e-01 ...,   9.56141038e-01\n",
      "    4.18603055e-02   2.27158579e-03]]\n",
      "tmp1.shape -> (5100, 36)\n",
      "tmp2 => [ 0.00860546  0.00921905  0.01969035  0.04855022  0.00835733  0.01130744\n",
      "  0.04115248  0.00796668  0.01129413  0.02730369  0.01118461  0.04053177\n",
      "  0.02179808  0.00978822  0.03611488  0.04707739  0.00942055  0.0094099\n",
      "  0.01359585  0.02729437  0.00800455  0.01212746  0.0281854   0.01358388\n",
      "  0.01304279  0.04370943  0.01135634  0.00764864  0.01576149  0.01029962\n",
      "  0.03314129  0.0138615   0.01891489  0.01004996  0.03647367  0.0545285 ]\n",
      "tmp2.shape -> (36,)\n",
      "tmp3 => [ 0.13457544  0.18910419  0.34498617 ...,  0.33370402  0.3496983   0.3575246 ]\n",
      "tmp3.shape -> (5100,)\n"
     ]
    }
   ],
   "source": [
    "pval = mvGaussian(X, mus, sigmas)"
   ]
  },
  {
   "cell_type": "code",
   "execution_count": 36,
   "metadata": {},
   "outputs": [
    {
     "data": {
      "text/plain": [
       "array([ 0.13457544,  0.18910419,  0.34498617, ...,  0.33370402,\n",
       "        0.3496983 ,  0.3575246 ])"
      ]
     },
     "execution_count": 36,
     "metadata": {},
     "output_type": "execute_result"
    }
   ],
   "source": [
    "pval"
   ]
  },
  {
   "cell_type": "code",
   "execution_count": 37,
   "metadata": {},
   "outputs": [
    {
     "data": {
      "text/plain": [
       "(5100,)"
      ]
     },
     "execution_count": 37,
     "metadata": {},
     "output_type": "execute_result"
    }
   ],
   "source": [
    "pval.shape"
   ]
  },
  {
   "cell_type": "code",
   "execution_count": 38,
   "metadata": {},
   "outputs": [
    {
     "data": {
      "text/plain": [
       "<matplotlib.text.Text at 0x10a809128>"
      ]
     },
     "execution_count": 38,
     "metadata": {},
     "output_type": "execute_result"
    },
    {
     "data": {
      "image/png": "[encoded data removed]",
      "text/plain": [
       "<matplotlib.figure.Figure at 0x10a471128>"
      ]
     },
     "metadata": {},
     "output_type": "display_data"
    }
   ],
   "source": [
    "plt.plot(pval, 'go')\n",
    "plt.title(\"Distribution of anormalities\")\n",
    "plt.xlabel(\"\")"
   ]
  },
  {
   "cell_type": "code",
   "execution_count": 39,
   "metadata": {},
   "outputs": [
    {
     "data": {
      "image/png": "[encoded data removed]",
      "text/plain": [
       "<matplotlib.figure.Figure at 0x10a647b70>"
      ]
     },
     "metadata": {},
     "output_type": "display_data"
    }
   ],
   "source": [
    "plt.plot(pval, 'go')\n",
    "plt.axis([0, 100, 0, 0.6])\n",
    "plt.show()"
   ]
  },
  {
   "cell_type": "code",
   "execution_count": 40,
   "metadata": {},
   "outputs": [],
   "source": [
    "epsilon = 0.20"
   ]
  },
  {
   "cell_type": "code",
   "execution_count": 41,
   "metadata": {},
   "outputs": [],
   "source": [
    "outliers = np.zeros(shape=(2, X.shape[0]))"
   ]
  },
  {
   "cell_type": "code",
   "execution_count": 42,
   "metadata": {},
   "outputs": [
    {
     "data": {
      "text/plain": [
       "(2, 5101)"
      ]
     },
     "execution_count": 42,
     "metadata": {},
     "output_type": "execute_result"
    }
   ],
   "source": [
    "outliers.shape"
   ]
  },
  {
   "cell_type": "code",
   "execution_count": 43,
   "metadata": {},
   "outputs": [],
   "source": [
    "for i in range(0, len(pval)):\n",
    "    if pval[i] < epsilon:\n",
    "        outliers[1][i] = int(1)\n",
    "    else:\n",
    "        outliers[1][i] = int(0)\n",
    "    outliers[0][i] = pval[i]"
   ]
  },
  {
   "cell_type": "code",
   "execution_count": 44,
   "metadata": {},
   "outputs": [
    {
     "data": {
      "text/plain": [
       "array([[ 0.13457544,  0.18910419,  0.34498617, ...,  0.3496983 ,\n",
       "         0.3575246 ,  0.        ],\n",
       "       [ 1.        ,  1.        ,  0.        , ...,  0.        ,\n",
       "         0.        ,  0.        ]])"
      ]
     },
     "execution_count": 44,
     "metadata": {},
     "output_type": "execute_result"
    }
   ],
   "source": [
    "outliers"
   ]
  },
  {
   "cell_type": "code",
   "execution_count": 45,
   "metadata": {},
   "outputs": [
    {
     "data": {
      "text/plain": [
       "(5101, 36)"
      ]
     },
     "execution_count": 45,
     "metadata": {},
     "output_type": "execute_result"
    }
   ],
   "source": [
    "X.shape"
   ]
  },
  {
   "cell_type": "code",
   "execution_count": 46,
   "metadata": {},
   "outputs": [
    {
     "name": "stdout",
     "output_type": "stream",
     "text": [
      "Number of outliers detected: 56\n"
     ]
    }
   ],
   "source": [
    "print('Number of outliers detected: {}'.format(list(outliers[1]).count(1)))"
   ]
  }
 ],
 "metadata": {
  "kernelspec": {
   "display_name": "Python 3",
   "language": "python",
   "name": "python3"
  },
  "language_info": {
   "codemirror_mode": {
    "name": "ipython",
    "version": 3
   },
   "file_extension": ".py",
   "mimetype": "text/x-python",
   "name": "python",
   "nbconvert_exporter": "python",
   "pygments_lexer": "ipython3",
   "version": "3.4.4"
  }
 },
 "nbformat": 4,
 "nbformat_minor": 2
}
