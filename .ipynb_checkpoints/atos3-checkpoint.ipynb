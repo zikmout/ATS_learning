{
 "cells": [
  {
   "cell_type": "code",
   "execution_count": 1,
   "metadata": {},
   "outputs": [],
   "source": [
    "import numpy as np\n",
    "from numpy import genfromtxt\n",
    "from scipy import stats\n",
    "import pandas as pd\n",
    "import matplotlib.pyplot as plt\n",
    "import seaborn as sb\n",
    "import csv\n",
    "from scipy.io import loadmat\n",
    "%matplotlib inline"
   ]
  },
  {
   "cell_type": "code",
   "execution_count": 2,
   "metadata": {},
   "outputs": [],
   "source": [
    "X = genfromtxt('mydata.csv', delimiter=',')"
   ]
  },
  {
   "cell_type": "code",
   "execution_count": 3,
   "metadata": {},
   "outputs": [
    {
     "data": {
      "text/plain": [
       "(5101, 36)"
      ]
     },
     "execution_count": 3,
     "metadata": {},
     "output_type": "execute_result"
    }
   ],
   "source": [
    "X.shape"
   ]
  },
  {
   "cell_type": "code",
   "execution_count": 4,
   "metadata": {},
   "outputs": [
    {
     "data": {
      "image/png": "[encoded data removed]",
      "text/plain": [
       "<matplotlib.figure.Figure at 0x109c1b668>"
      ]
     },
     "metadata": {},
     "output_type": "display_data"
    }
   ],
   "source": [
    "plt.scatter(X[:,1], X[:,2])\n",
    "plt.show()\n",
    "#fig, ax = plt.subplots(figsize=(200, 200))\n",
    "#ax.scatter(X[:,0], X[:,1])"
   ]
  },
  {
   "cell_type": "code",
   "execution_count": 17,
   "metadata": {},
   "outputs": [
    {
     "data": {
      "text/plain": [
       "array([  47.,   37.,  119.,  133.,   44.,   34.,  124.,  143.,   44.,\n",
       "         34.,  129.,  143.,   57.,   49.,  115.,  113.,   47.,   31.,\n",
       "        131.,  142.,   44.,   31.,  131.,  142.,   68.,   68.,  100.,\n",
       "         85.,   50.,   39.,  118.,  132.,   43.,   29.,  133.,  143.])"
      ]
     },
     "execution_count": 17,
     "metadata": {},
     "output_type": "execute_result"
    }
   ],
   "source": [
    "X[2,:]"
   ]
  },
  {
   "cell_type": "code",
   "execution_count": 24,
   "metadata": {},
   "outputs": [],
   "source": [
    "def estimateGaussian(X):\n",
    "    mu = X.mean(axis=0)\n",
    "    sigma = X.var(axis=0)\n",
    "    return mu, sigma"
   ]
  },
  {
   "cell_type": "code",
   "execution_count": 35,
   "metadata": {},
   "outputs": [],
   "source": [
    "r = np.zeros(shape=(2, X.shape[1]))"
   ]
  },
  {
   "cell_type": "code",
   "execution_count": 36,
   "metadata": {},
   "outputs": [
    {
     "data": {
      "text/plain": [
       "(2, 36)"
      ]
     },
     "execution_count": 36,
     "metadata": {},
     "output_type": "execute_result"
    }
   ],
   "source": [
    "r.shape"
   ]
  },
  {
   "cell_type": "code",
   "execution_count": 40,
   "metadata": {},
   "outputs": [
    {
     "name": "stdout",
     "output_type": "stream",
     "text": [
      "mu -> 85.63888888888889\n",
      "sigma -> 2149.175154320988\n",
      "mu -> 85.33333333333333\n",
      "sigma -> 1872.611111111111\n",
      "mu -> 85.0\n",
      "sigma -> 410.5\n",
      "mu -> 59.916666666666664\n",
      "sigma -> 67.52083333333333\n",
      "mu -> 85.25\n",
      "sigma -> 2278.6875\n",
      "mu -> 81.33333333333333\n",
      "sigma -> 1244.7777777777778\n",
      "mu -> 59.27777777777778\n",
      "sigma -> 93.97839506172839\n",
      "mu -> 87.52777777777777\n",
      "sigma -> 2507.6381172839506\n",
      "mu -> 72.19444444444444\n",
      "sigma -> 1247.7121913580247\n",
      "mu -> 77.80555555555556\n",
      "sigma -> 213.48996913580245\n",
      "mu -> 75.80555555555556\n",
      "sigma -> 1272.2677469135804\n",
      "mu -> 67.19444444444444\n",
      "sigma -> 96.87885802469137\n",
      "mu -> 71.86111111111111\n",
      "sigma -> 334.9529320987654\n",
      "mu -> 79.05555555555556\n",
      "sigma -> 1661.1635802469136\n",
      "mu -> 72.44444444444444\n",
      "sigma -> 122.02469135802468\n",
      "mu -> 75.72222222222223\n",
      "sigma -> 71.81172839506172\n",
      "mu -> 81.83333333333333\n",
      "sigma -> 1793.361111111111\n",
      "mu -> 80.27777777777777\n",
      "sigma -> 1797.4228395061732\n",
      "mu -> 81.86111111111111\n",
      "sigma -> 861.008487654321\n",
      "mu -> 71.55555555555556\n",
      "sigma -> 213.6358024691358\n",
      "mu -> 87.97222222222223\n",
      "sigma -> 2483.971450617284\n",
      "mu -> 82.58333333333333\n",
      "sigma -> 1082.1319444444443\n",
      "mu -> 78.86111111111111\n",
      "sigma -> 200.34182098765436\n",
      "mu -> 67.52777777777777\n",
      "sigma -> 862.5270061728394\n",
      "mu -> 71.58333333333333\n",
      "sigma -> 935.5763888888889\n",
      "mu -> 69.02777777777777\n",
      "sigma -> 83.30478395061729\n",
      "mu -> 74.55555555555556\n",
      "sigma -> 1234.0802469135804\n",
      "mu -> 88.75\n",
      "sigma -> 2720.5208333333335\n",
      "mu -> 78.69444444444444\n",
      "sigma -> 640.656635802469\n",
      "mu -> 82.75\n",
      "sigma -> 1500.298611111111\n",
      "mu -> 72.38888888888889\n",
      "sigma -> 144.90432098765433\n",
      "mu -> 75.30555555555556\n",
      "sigma -> 828.3233024691358\n",
      "mu -> 75.38888888888889\n",
      "sigma -> 444.8487654320988\n",
      "mu -> 79.11111111111111\n",
      "sigma -> 1575.7654320987654\n",
      "mu -> 72.44444444444444\n",
      "sigma -> 119.6358024691358\n"
     ]
    }
   ],
   "source": [
    "for i in range(1, X.shape[1]):\n",
    "    [mu, sigma] = estimateGaussian(X[i][:])\n",
    "    r[0][i - 1] = mu;\n",
    "    r[1][i - 1] = sigma;\n",
    "    print('mu -> {}'.format(mu))\n",
    "    print('sigma -> {}'.format(sigma))"
   ]
  },
  {
   "cell_type": "code",
   "execution_count": 41,
   "metadata": {},
   "outputs": [
    {
     "data": {
      "text/plain": [
       "array([[   85.63888889,    85.33333333,    85.        ,    59.91666667,\n",
       "           85.25      ,    81.33333333,    59.27777778,    87.52777778,\n",
       "           72.19444444,    77.80555556,    75.80555556,    67.19444444,\n",
       "           71.86111111,    79.05555556,    72.44444444,    75.72222222,\n",
       "           81.83333333,    80.27777778,    81.86111111,    71.55555556,\n",
       "           87.97222222,    82.58333333,    78.86111111,    67.52777778,\n",
       "           71.58333333,    69.02777778,    74.55555556,    88.75      ,\n",
       "           78.69444444,    82.75      ,    72.38888889,    75.30555556,\n",
       "           75.38888889,    79.11111111,    72.44444444,    72.44444444],\n",
       "       [ 2149.17515432,  1872.61111111,   410.5       ,    67.52083333,\n",
       "         2278.6875    ,  1244.77777778,    93.97839506,  2507.63811728,\n",
       "         1247.71219136,   213.48996914,  1272.26774691,    96.87885802,\n",
       "          334.9529321 ,  1661.16358025,   122.02469136,    71.8117284 ,\n",
       "         1793.36111111,  1797.42283951,   861.00848765,   213.63580247,\n",
       "         2483.97145062,  1082.13194444,   200.34182099,   862.52700617,\n",
       "          935.57638889,    83.30478395,  1234.08024691,  2720.52083333,\n",
       "          640.6566358 ,  1500.29861111,   144.90432099,   828.32330247,\n",
       "          444.84876543,  1575.7654321 ,   119.63580247,   119.63580247]])"
      ]
     },
     "execution_count": 41,
     "metadata": {},
     "output_type": "execute_result"
    }
   ],
   "source": [
    "r"
   ]
  },
  {
   "cell_type": "code",
   "execution_count": 6,
   "metadata": {},
   "outputs": [],
   "source": [
    "def estimate_gaussian(x):\n",
    "    mu = X.mean(axis=0)\n",
    "    sigma = X.var(axis=0)\n",
    "    return mu, sigma"
   ]
  },
  {
   "cell_type": "code",
   "execution_count": 7,
   "metadata": {},
   "outputs": [],
   "source": [
    "r = np.zeros(shape=(3, X.shape[0]))"
   ]
  },
  {
   "cell_type": "code",
   "execution_count": 116,
   "metadata": {},
   "outputs": [],
   "source": []
  },
  {
   "cell_type": "code",
   "execution_count": 8,
   "metadata": {},
   "outputs": [
    {
     "data": {
      "text/plain": [
       "(3, 5101)"
      ]
     },
     "execution_count": 8,
     "metadata": {},
     "output_type": "execute_result"
    }
   ],
   "source": [
    "r.shape"
   ]
  },
  {
   "cell_type": "code",
   "execution_count": 16,
   "metadata": {},
   "outputs": [
    {
     "ename": "ValueError",
     "evalue": "could not broadcast input array from shape (36) into shape (5101)",
     "output_type": "error",
     "traceback": [
      "\u001b[0;31m---------------------------------------------------------------------------\u001b[0m",
      "\u001b[0;31mValueError\u001b[0m                                Traceback (most recent call last)",
      "\u001b[0;32m<ipython-input-16-9cb779f44440>\u001b[0m in \u001b[0;36m<module>\u001b[0;34m()\u001b[0m\n\u001b[1;32m      2\u001b[0m     \u001b[0;31m#print('loop number -> {}'.format(i))\u001b[0m\u001b[0;34m\u001b[0m\u001b[0;34m\u001b[0m\u001b[0m\n\u001b[1;32m      3\u001b[0m     \u001b[0;34m[\u001b[0m\u001b[0mmu\u001b[0m\u001b[0;34m,\u001b[0m \u001b[0msigma\u001b[0m\u001b[0;34m]\u001b[0m \u001b[0;34m=\u001b[0m \u001b[0mestimate_gaussian\u001b[0m\u001b[0;34m(\u001b[0m\u001b[0mX\u001b[0m\u001b[0;34m[\u001b[0m\u001b[0mi\u001b[0m\u001b[0;34m]\u001b[0m\u001b[0;34m)\u001b[0m\u001b[0;34m\u001b[0m\u001b[0m\n\u001b[0;32m----> 4\u001b[0;31m     \u001b[0mr\u001b[0m\u001b[0;34m[\u001b[0m\u001b[0;34m:\u001b[0m\u001b[0;34m]\u001b[0m\u001b[0;34m[\u001b[0m\u001b[0mi\u001b[0m\u001b[0;34m]\u001b[0m \u001b[0;34m=\u001b[0m \u001b[0mmu\u001b[0m\u001b[0;34m;\u001b[0m\u001b[0;34m\u001b[0m\u001b[0m\n\u001b[0m\u001b[1;32m      5\u001b[0m     \u001b[0mr\u001b[0m\u001b[0;34m[\u001b[0m\u001b[0;34m:\u001b[0m\u001b[0;34m]\u001b[0m\u001b[0;34m[\u001b[0m\u001b[0mi\u001b[0m\u001b[0;34m]\u001b[0m \u001b[0;34m=\u001b[0m \u001b[0msigma\u001b[0m\u001b[0;34m;\u001b[0m\u001b[0;34m\u001b[0m\u001b[0m\n\u001b[1;32m      6\u001b[0m     \u001b[0;31m#mu = np.mean(X[i,:])\u001b[0m\u001b[0;34m\u001b[0m\u001b[0;34m\u001b[0m\u001b[0m\n",
      "\u001b[0;31mValueError\u001b[0m: could not broadcast input array from shape (36) into shape (5101)"
     ]
    }
   ],
   "source": [
    "for i in range(0, X.shape[0]):\n",
    "    #print('loop number -> {}'.format(i))\n",
    "    [mu, sigma] = estimate_gaussian(X[i])\n",
    "    r[:][i] = mu;\n",
    "    r[:][i] = sigma;\n",
    "    #mu = np.mean(X[i,:])\n",
    "    #sigma = np.var(X[i,:])\n",
    "    #print('mu -> {}'.format(mu))\n",
    "    #print('mu -> {} and sigma -> {}'.format(mu, sigma))\n",
    "    #r[0,i] = mu\n",
    "    #r[1,i] = sigma\n",
    "    #r[2,i] = stats.norm(mu, sigma).pdf(X[i,:])"
   ]
  },
  {
   "cell_type": "code",
   "execution_count": 161,
   "metadata": {},
   "outputs": [
    {
     "data": {
      "text/plain": [
       "(3, 5101)"
      ]
     },
     "execution_count": 161,
     "metadata": {},
     "output_type": "execute_result"
    }
   ],
   "source": [
    "r.shape"
   ]
  },
  {
   "cell_type": "code",
   "execution_count": 162,
   "metadata": {},
   "outputs": [
    {
     "data": {
      "text/plain": [
       "array([[           nan,    85.63888889,    85.33333333, ...,\n",
       "           87.91666667,    88.08333333,    88.02777778],\n",
       "       [           nan,  2149.17515432,  1872.61111111, ...,\n",
       "          181.46527778,   151.90972222,   142.36033951],\n",
       "       [    0.        ,     0.        ,     0.        , ...,\n",
       "            0.        ,     0.        ,     0.        ]])"
      ]
     },
     "execution_count": 162,
     "metadata": {},
     "output_type": "execute_result"
    }
   ],
   "source": [
    "r"
   ]
  },
  {
   "cell_type": "code",
   "execution_count": 95,
   "metadata": {},
   "outputs": [
    {
     "data": {
      "image/png": "[encoded data removed]",
      "text/plain": [
       "<matplotlib.figure.Figure at 0x111f49278>"
      ]
     },
     "metadata": {},
     "output_type": "display_data"
    }
   ],
   "source": [
    "plt.plot(r)\n",
    "plt.show()"
   ]
  },
  {
   "cell_type": "code",
   "execution_count": null,
   "metadata": {},
   "outputs": [],
   "source": []
  }
 ],
 "metadata": {
  "kernelspec": {
   "display_name": "Python 3",
   "language": "python",
   "name": "python3"
  },
  "language_info": {
   "codemirror_mode": {
    "name": "ipython",
    "version": 3
   },
   "file_extension": ".py",
   "mimetype": "text/x-python",
   "name": "python",
   "nbconvert_exporter": "python",
   "pygments_lexer": "ipython3",
   "version": "3.4.4"
  }
 },
 "nbformat": 4,
 "nbformat_minor": 2
}
