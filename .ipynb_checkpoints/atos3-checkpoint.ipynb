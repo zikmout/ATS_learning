{
 "cells": [
  {
   "cell_type": "code",
   "execution_count": 4,
   "metadata": {},
   "outputs": [],
   "source": [
    "import numpy as np\n",
    "from numpy import genfromtxt\n",
    "from scipy import stats\n",
    "import pandas as pd\n",
    "import matplotlib.pyplot as plt\n",
    "import seaborn as sb\n",
    "import csv\n",
    "from scipy.io import loadmat\n",
    "import math\n",
    "%matplotlib inline"
   ]
  },
  {
   "cell_type": "code",
   "execution_count": 5,
   "metadata": {},
   "outputs": [],
   "source": [
    "X = genfromtxt('mydata.csv', delimiter=',')"
   ]
  },
  {
   "cell_type": "code",
   "execution_count": 6,
   "metadata": {},
   "outputs": [
    {
     "data": {
      "text/plain": [
       "(5101, 36)"
      ]
     },
     "execution_count": 6,
     "metadata": {},
     "output_type": "execute_result"
    }
   ],
   "source": [
    "X.shape"
   ]
  },
  {
   "cell_type": "code",
   "execution_count": 7,
   "metadata": {},
   "outputs": [
    {
     "data": {
      "image/png": "[encoded data removed]",
      "text/plain": [
       "<matplotlib.figure.Figure at 0x10afc52b0>"
      ]
     },
     "metadata": {},
     "output_type": "display_data"
    }
   ],
   "source": [
    "plt.scatter(X[:,1], X[:,2])\n",
    "plt.show()\n",
    "#fig, ax = plt.subplots(figsize=(200, 200))\n",
    "#ax.scatter(X[:,0], X[:,1])"
   ]
  },
  {
   "cell_type": "code",
   "execution_count": 8,
   "metadata": {},
   "outputs": [
    {
     "data": {
      "text/plain": [
       "array([  47.,   37.,  119.,  133.,   44.,   34.,  124.,  143.,   44.,\n",
       "         34.,  129.,  143.,   57.,   49.,  115.,  113.,   47.,   31.,\n",
       "        131.,  142.,   44.,   31.,  131.,  142.,   68.,   68.,  100.,\n",
       "         85.,   50.,   39.,  118.,  132.,   43.,   29.,  133.,  143.])"
      ]
     },
     "execution_count": 8,
     "metadata": {},
     "output_type": "execute_result"
    }
   ],
   "source": [
    "X[2,:]"
   ]
  },
  {
   "cell_type": "code",
   "execution_count": 9,
   "metadata": {},
   "outputs": [],
   "source": [
    "def estimateGaussian(X):\n",
    "    mu = X.mean(axis=0)\n",
    "    sigma = X.var(axis=0)\n",
    "    return mu, sigma"
   ]
  },
  {
   "cell_type": "code",
   "execution_count": 10,
   "metadata": {},
   "outputs": [],
   "source": [
    "mus = np.zeros(shape=(1, X.shape[1]))\n",
    "sigmas = np.zeros(shape=(1, X.shape[1]))"
   ]
  },
  {
   "cell_type": "code",
   "execution_count": 11,
   "metadata": {},
   "outputs": [
    {
     "data": {
      "text/plain": [
       "(1, 36)"
      ]
     },
     "execution_count": 11,
     "metadata": {},
     "output_type": "execute_result"
    }
   ],
   "source": [
    "mus.shape\n",
    "sigmas.shape"
   ]
  },
  {
   "cell_type": "code",
   "execution_count": null,
   "metadata": {},
   "outputs": [],
   "source": []
  },
  {
   "cell_type": "code",
   "execution_count": 25,
   "metadata": {},
   "outputs": [
    {
     "data": {
      "text/plain": [
       "array([[ 85.63888889,  85.33333333,  85.        ,  59.91666667,\n",
       "         85.25      ,  81.33333333,  59.27777778,  87.52777778,\n",
       "         72.19444444,  77.80555556,  75.80555556,  67.19444444,\n",
       "         71.86111111,  79.05555556,  72.44444444,  75.72222222,\n",
       "         81.83333333,  80.27777778,  81.86111111,  71.55555556,\n",
       "         87.97222222,  82.58333333,  78.86111111,  67.52777778,\n",
       "         71.58333333,  69.02777778,  74.55555556,  88.75      ,\n",
       "         78.69444444,  82.75      ,  72.38888889,  75.30555556,\n",
       "         75.38888889,  79.11111111,  72.44444444,   0.        ]])"
      ]
     },
     "execution_count": 25,
     "metadata": {},
     "output_type": "execute_result"
    }
   ],
   "source": [
    "mus"
   ]
  },
  {
   "cell_type": "code",
   "execution_count": 26,
   "metadata": {},
   "outputs": [
    {
     "data": {
      "text/plain": [
       "array([[ 2149.17515432,  1872.61111111,   410.5       ,    67.52083333,\n",
       "         2278.6875    ,  1244.77777778,    93.97839506,  2507.63811728,\n",
       "         1247.71219136,   213.48996914,  1272.26774691,    96.87885802,\n",
       "          334.9529321 ,  1661.16358025,   122.02469136,    71.8117284 ,\n",
       "         1793.36111111,  1797.42283951,   861.00848765,   213.63580247,\n",
       "         2483.97145062,  1082.13194444,   200.34182099,   862.52700617,\n",
       "          935.57638889,    83.30478395,  1234.08024691,  2720.52083333,\n",
       "          640.6566358 ,  1500.29861111,   144.90432099,   828.32330247,\n",
       "          444.84876543,  1575.7654321 ,   119.63580247,     0.        ]])"
      ]
     },
     "execution_count": 26,
     "metadata": {},
     "output_type": "execute_result"
    }
   ],
   "source": [
    "sigmas"
   ]
  },
  {
   "cell_type": "code",
   "execution_count": 27,
   "metadata": {},
   "outputs": [
    {
     "data": {
      "text/plain": [
       "(1, 36)"
      ]
     },
     "execution_count": 27,
     "metadata": {},
     "output_type": "execute_result"
    }
   ],
   "source": [
    "sigmas.shape"
   ]
  },
  {
   "cell_type": "code",
   "execution_count": 28,
   "metadata": {},
   "outputs": [
    {
     "data": {
      "text/plain": [
       "(5101, 36)"
      ]
     },
     "execution_count": 28,
     "metadata": {},
     "output_type": "execute_result"
    }
   ],
   "source": [
    "X.shape"
   ]
  },
  {
   "cell_type": "code",
   "execution_count": 29,
   "metadata": {},
   "outputs": [
    {
     "data": {
      "text/plain": [
       "(1, 36)"
      ]
     },
     "execution_count": 29,
     "metadata": {},
     "output_type": "execute_result"
    }
   ],
   "source": [
    "mus.shape"
   ]
  },
  {
   "cell_type": "code",
   "execution_count": 30,
   "metadata": {},
   "outputs": [
    {
     "data": {
      "text/plain": [
       "(5101, 36)"
      ]
     },
     "execution_count": 30,
     "metadata": {},
     "output_type": "execute_result"
    }
   ],
   "source": [
    "X.shape"
   ]
  },
  {
   "cell_type": "code",
   "execution_count": 93,
   "metadata": {},
   "outputs": [],
   "source": [
    "def mvGaussian(X, mus, sigmas):\n",
    "    tmp1 = np.exp( -((X - mus) ** 2)/(2 * sigmas) )\n",
    "    tmp2 = ( 1 / ( np.sqrt((2 * np.pi)) * np.sqrt(sigmas) ) )  \n",
    "    #tmp2 = 1 / (np.sqrt((2 * math.pi)) * np.sqrt(sigmas))\n",
    "    tmp3 = np.dot(tmp1, np.transpose(tmp2))\n",
    "    print('tmp1 => {}'.format(tmp1))\n",
    "    print('tmp1.shape -> {}'.format(tmp1.shape))\n",
    "    print('tmp2 => {}'.format(tmp2))\n",
    "    print('tmp2.shape -> {}'.format(tmp2.shape))\n",
    "    print('tmp3 => {}'.format(tmp3))\n",
    "    print('tmp3.shape -> {}'.format(tmp3.shape))\n",
    "    return tmp3"
   ]
  },
  {
   "cell_type": "code",
   "execution_count": 88,
   "metadata": {},
   "outputs": [
    {
     "data": {
      "text/plain": [
       "(1, 36)"
      ]
     },
     "execution_count": 88,
     "metadata": {},
     "output_type": "execute_result"
    }
   ],
   "source": [
    "mus.shape"
   ]
  },
  {
   "cell_type": "code",
   "execution_count": 89,
   "metadata": {},
   "outputs": [
    {
     "data": {
      "text/plain": [
       "(36, 1)"
      ]
     },
     "execution_count": 89,
     "metadata": {},
     "output_type": "execute_result"
    }
   ],
   "source": [
    "np.transpose(mus[:]).shape"
   ]
  },
  {
   "cell_type": "code",
   "execution_count": 90,
   "metadata": {},
   "outputs": [
    {
     "data": {
      "text/plain": [
       "(5101, 36)"
      ]
     },
     "execution_count": 90,
     "metadata": {},
     "output_type": "execute_result"
    }
   ],
   "source": [
    "X.shape"
   ]
  },
  {
   "cell_type": "code",
   "execution_count": 91,
   "metadata": {},
   "outputs": [
    {
     "name": "stdout",
     "output_type": "stream",
     "text": [
      "tmp1 => [[             nan              nan              nan ...,              nan\n",
      "               nan              nan]\n",
      " [  6.93818247e-01   5.77683724e-01   2.44622524e-01 ...,   4.79763601e-01\n",
      "    5.97828248e-07   0.00000000e+00]\n",
      " [  7.06569208e-01   5.35926810e-01   2.44622524e-01 ...,   4.50771456e-01\n",
      "    2.20895390e-07   0.00000000e+00]\n",
      " ..., \n",
      " [  9.30173941e-01   9.71892188e-01   5.25010942e-01 ...,   8.70702301e-01\n",
      "    1.55825814e-02   0.00000000e+00]\n",
      " [  9.51366740e-01   9.99258589e-01   5.25010942e-01 ...,   9.56141038e-01\n",
      "    1.55825814e-02   0.00000000e+00]\n",
      " [  9.51366740e-01   9.91462764e-01   7.60289476e-01 ...,   9.56141038e-01\n",
      "    4.18603055e-02   0.00000000e+00]]\n",
      "tmp1.shape -> (5101, 36)\n",
      "tmp2 => [[ 0.00860546  0.00921905  0.01969035  0.04855022  0.00835733  0.01130744\n",
      "   0.04115248  0.00796668  0.01129413  0.02730369  0.01118461  0.04053177\n",
      "   0.02179808  0.00978822  0.03611488  0.04707739  0.00942055  0.0094099\n",
      "   0.01359585  0.02729437  0.00800455  0.01212746  0.0281854   0.01358388\n",
      "   0.01304279  0.04370943  0.01135634  0.00764864  0.01576149  0.01029962\n",
      "   0.03314129  0.0138615   0.01891489  0.01004996  0.03647367         inf]]\n",
      "tmp2.shape -> (1, 36)\n",
      "tmp3 => [ nan]\n",
      "tmp3.shape -> (1,)\n"
     ]
    },
    {
     "name": "stderr",
     "output_type": "stream",
     "text": [
      "/Users/ssicard/Library/Python/3.4/lib/python/site-packages/ipykernel_launcher.py:2: RuntimeWarning: divide by zero encountered in true_divide\n",
      "  \n",
      "/Users/ssicard/Library/Python/3.4/lib/python/site-packages/ipykernel_launcher.py:3: RuntimeWarning: divide by zero encountered in true_divide\n",
      "  This is separate from the ipykernel package so we can avoid doing imports until\n"
     ]
    }
   ],
   "source": [
    "pval = mvGaussian(X, mus, sigmas)"
   ]
  },
  {
   "cell_type": "code",
   "execution_count": 92,
   "metadata": {},
   "outputs": [
    {
     "data": {
      "text/plain": [
       "array([ nan])"
      ]
     },
     "execution_count": 92,
     "metadata": {},
     "output_type": "execute_result"
    }
   ],
   "source": [
    "pval"
   ]
  },
  {
   "cell_type": "code",
   "execution_count": 56,
   "metadata": {},
   "outputs": [
    {
     "data": {
      "text/plain": [
       "(5101, 1)"
      ]
     },
     "execution_count": 56,
     "metadata": {},
     "output_type": "execute_result"
    }
   ],
   "source": [
    "pval.shape"
   ]
  },
  {
   "cell_type": "code",
   "execution_count": 57,
   "metadata": {},
   "outputs": [
    {
     "data": {
      "text/plain": [
       "<matplotlib.text.Text at 0x109c7db38>"
      ]
     },
     "execution_count": 57,
     "metadata": {},
     "output_type": "execute_result"
    },
    {
     "data": {
      "image/png": "[encoded data removed]",
      "text/plain": [
       "<matplotlib.figure.Figure at 0x10b164c18>"
      ]
     },
     "metadata": {},
     "output_type": "display_data"
    }
   ],
   "source": [
    "plt.plot(pval, 'go')\n",
    "plt.title(\"Distribution of anormalities\")\n",
    "plt.xlabel(\"\")"
   ]
  },
  {
   "cell_type": "code",
   "execution_count": 346,
   "metadata": {},
   "outputs": [
    {
     "data": {
      "image/png": "[encoded data removed]",
      "text/plain": [
       "<matplotlib.figure.Figure at 0x112feb470>"
      ]
     },
     "metadata": {},
     "output_type": "display_data"
    }
   ],
   "source": [
    "plt.plot(pval, 'go')\n",
    "plt.axis([0, 100, 0, 0.6])\n",
    "plt.show()"
   ]
  },
  {
   "cell_type": "code",
   "execution_count": null,
   "metadata": {},
   "outputs": [],
   "source": []
  },
  {
   "cell_type": "code",
   "execution_count": null,
   "metadata": {},
   "outputs": [],
   "source": []
  },
  {
   "cell_type": "code",
   "execution_count": null,
   "metadata": {},
   "outputs": [],
   "source": []
  },
  {
   "cell_type": "code",
   "execution_count": 281,
   "metadata": {},
   "outputs": [],
   "source": [
    "epsilon = 0.20"
   ]
  },
  {
   "cell_type": "code",
   "execution_count": 282,
   "metadata": {},
   "outputs": [],
   "source": [
    "outliers = np.zeros(shape=(2, X.shape[0]))"
   ]
  },
  {
   "cell_type": "code",
   "execution_count": 283,
   "metadata": {},
   "outputs": [
    {
     "data": {
      "text/plain": [
       "(2, 5101)"
      ]
     },
     "execution_count": 283,
     "metadata": {},
     "output_type": "execute_result"
    }
   ],
   "source": [
    "outliers.shape"
   ]
  },
  {
   "cell_type": "code",
   "execution_count": 286,
   "metadata": {},
   "outputs": [],
   "source": [
    "for i in range(0, len(pval)):\n",
    "    if pval[i] < epsilon:\n",
    "        outliers[1][i] = int(1)\n",
    "    else:\n",
    "        outliers[1][i] = int(0)\n",
    "    outliers[0][i] = pval[i]"
   ]
  },
  {
   "cell_type": "code",
   "execution_count": 287,
   "metadata": {},
   "outputs": [
    {
     "data": {
      "text/plain": [
       "array([[        nan,  0.13868525,  0.19310668, ...,  0.34229283,\n",
       "         0.35828711,  0.36596322],\n",
       "       [ 0.        ,  1.        ,  1.        , ...,  0.        ,\n",
       "         0.        ,  0.        ]])"
      ]
     },
     "execution_count": 287,
     "metadata": {},
     "output_type": "execute_result"
    }
   ],
   "source": [
    "outliers"
   ]
  },
  {
   "cell_type": "code",
   "execution_count": 271,
   "metadata": {},
   "outputs": [
    {
     "data": {
      "text/plain": [
       "(5101, 36)"
      ]
     },
     "execution_count": 271,
     "metadata": {},
     "output_type": "execute_result"
    }
   ],
   "source": [
    "X.shape"
   ]
  },
  {
   "cell_type": "code",
   "execution_count": null,
   "metadata": {},
   "outputs": [],
   "source": []
  },
  {
   "cell_type": "code",
   "execution_count": null,
   "metadata": {},
   "outputs": [],
   "source": []
  },
  {
   "cell_type": "code",
   "execution_count": null,
   "metadata": {
    "scrolled": true
   },
   "outputs": [],
   "source": []
  },
  {
   "cell_type": "code",
   "execution_count": null,
   "metadata": {
    "scrolled": true
   },
   "outputs": [],
   "source": []
  },
  {
   "cell_type": "code",
   "execution_count": null,
   "metadata": {},
   "outputs": [],
   "source": []
  },
  {
   "cell_type": "code",
   "execution_count": null,
   "metadata": {},
   "outputs": [],
   "source": []
  },
  {
   "cell_type": "code",
   "execution_count": 321,
   "metadata": {},
   "outputs": [
    {
     "data": {
      "text/plain": [
       "<matplotlib.collections.PathCollection at 0x115c8b710>"
      ]
     },
     "execution_count": 321,
     "metadata": {},
     "output_type": "execute_result"
    },
    {
     "data": {
      "image/png": "[encoded data removed]",
      "text/plain": [
       "<matplotlib.figure.Figure at 0x115b84860>"
      ]
     },
     "metadata": {},
     "output_type": "display_data"
    }
   ],
   "source": [
    "plt.scatter(pval[:], outliers[1][:])\n",
    "plt.scatter(pval[:], outliers[0][:], color='red')"
   ]
  },
  {
   "cell_type": "code",
   "execution_count": null,
   "metadata": {},
   "outputs": [],
   "source": []
  },
  {
   "cell_type": "code",
   "execution_count": null,
   "metadata": {},
   "outputs": [],
   "source": []
  },
  {
   "cell_type": "code",
   "execution_count": null,
   "metadata": {
    "scrolled": true
   },
   "outputs": [],
   "source": []
  }
 ],
 "metadata": {
  "kernelspec": {
   "display_name": "Python 3",
   "language": "python",
   "name": "python3"
  },
  "language_info": {
   "codemirror_mode": {
    "name": "ipython",
    "version": 3
   },
   "file_extension": ".py",
   "mimetype": "text/x-python",
   "name": "python",
   "nbconvert_exporter": "python",
   "pygments_lexer": "ipython3",
   "version": "3.4.4"
  }
 },
 "nbformat": 4,
 "nbformat_minor": 2
}
