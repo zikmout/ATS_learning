{
 "cells": [
  {
   "cell_type": "markdown",
   "metadata": {},
   "source": [
    "# <font color='green'>NEW: Trying K-Means</font>"
   ]
  },
  {
   "cell_type": "code",
   "execution_count": 65,
   "metadata": {},
   "outputs": [],
   "source": [
    "# Implementation: Creating Clusters"
   ]
  },
  {
   "cell_type": "code",
   "execution_count": 66,
   "metadata": {},
   "outputs": [],
   "source": [
    "%matplotlib inline\n",
    "import matplotlib.pyplot as plt\n",
    "import seaborn as sns; sns.set()  # for plot styling\n",
    "import numpy as np\n",
    "from sklearn.datasets import load_digits\n",
    "from sklearn.cluster import KMeans"
   ]
  },
  {
   "cell_type": "code",
   "execution_count": 67,
   "metadata": {},
   "outputs": [],
   "source": [
    "# Load data from csv file\n",
    "ats_data = np.genfromtxt(\n",
    "    fname ='mydata.csv', delimiter= ',', dtype= float)"
   ]
  },
  {
   "cell_type": "code",
   "execution_count": 68,
   "metadata": {},
   "outputs": [
    {
     "data": {
      "text/plain": [
       "array([[  nan,   nan,   nan, ...,   nan,   nan,   nan],\n",
       "       [  46.,   40.,  119., ...,   31.,  131.,  142.],\n",
       "       [  47.,   37.,  119., ...,   29.,  133.,  143.],\n",
       "       ..., \n",
       "       [  68.,   75.,  108., ...,  100.,  104.,   85.],\n",
       "       [  71.,   87.,  108., ...,   91.,  104.,   85.],\n",
       "       [  71.,   91.,  100., ...,   91.,  100.,   81.]])"
      ]
     },
     "execution_count": 68,
     "metadata": {},
     "output_type": "execute_result"
    }
   ],
   "source": [
    "ats_data"
   ]
  },
  {
   "cell_type": "code",
   "execution_count": 69,
   "metadata": {},
   "outputs": [],
   "source": [
    "ats_data = np.delete(arr = ats_data, obj=0, axis = 0)"
   ]
  },
  {
   "cell_type": "code",
   "execution_count": 70,
   "metadata": {},
   "outputs": [
    {
     "data": {
      "text/plain": [
       "array([[  46.,   40.,  119., ...,   31.,  131.,  142.],\n",
       "       [  47.,   37.,  119., ...,   29.,  133.,  143.],\n",
       "       [  80.,   95.,  100., ...,   83.,   96.,   74.],\n",
       "       ..., \n",
       "       [  68.,   75.,  108., ...,  100.,  104.,   85.],\n",
       "       [  71.,   87.,  108., ...,   91.,  104.,   85.],\n",
       "       [  71.,   91.,  100., ...,   91.,  100.,   81.]])"
      ]
     },
     "execution_count": 70,
     "metadata": {},
     "output_type": "execute_result"
    }
   ],
   "source": [
    "ats_data"
   ]
  },
  {
   "cell_type": "code",
   "execution_count": 71,
   "metadata": {},
   "outputs": [
    {
     "data": {
      "text/plain": [
       "(10, 36)"
      ]
     },
     "execution_count": 71,
     "metadata": {},
     "output_type": "execute_result"
    }
   ],
   "source": [
    "kmeans = KMeans(n_clusters=10, random_state=0)\n",
    "clusters = kmeans.fit_predict(ats_data)\n",
    "kmeans.cluster_centers_.shape"
   ]
  },
  {
   "cell_type": "code",
   "execution_count": 72,
   "metadata": {},
   "outputs": [
    {
     "data": {
      "text/plain": [
       "(10, 36)"
      ]
     },
     "execution_count": 72,
     "metadata": {},
     "output_type": "execute_result"
    }
   ],
   "source": [
    "kmeans.cluster_centers_.shape"
   ]
  },
  {
   "cell_type": "code",
   "execution_count": 73,
   "metadata": {},
   "outputs": [
    {
     "data": {
      "image/png": "[encoded data removed]",
      "text/plain": [
       "<matplotlib.figure.Figure at 0x10d697a58>"
      ]
     },
     "metadata": {},
     "output_type": "display_data"
    }
   ],
   "source": [
    "fig, ax = plt.subplots(2, 5, figsize=(8, 3))\n",
    "centers = kmeans.cluster_centers_.reshape(10, 6, 6)\n",
    "for axi, center in zip(ax.flat, centers):\n",
    "    axi.set(xticks=[], yticks=[])\n",
    "    axi.imshow(center, interpolation='nearest', cmap=plt.cm.binary)"
   ]
  },
  {
   "cell_type": "code",
   "execution_count": 74,
   "metadata": {},
   "outputs": [],
   "source": [
    "def dim_red_pca(X, d=0, corr=False):\n",
    "    r\"\"\"\n",
    "    Performs principal component analysis.\n",
    "\n",
    "    Parameters\n",
    "    ----------\n",
    "    X : array, (n, d)\n",
    "        Original observations (n observations, d features)\n",
    "\n",
    "    d : int\n",
    "        Number of principal components (default is ``0`` => all components).\n",
    "\n",
    "    corr : bool\n",
    "        If true, the PCA is performed based on the correlation matrix.\n",
    "\n",
    "    Notes\n",
    "    -----\n",
    "    Always all eigenvalues and eigenvectors are returned,\n",
    "    independently of the desired number of components ``d``.\n",
    "\n",
    "    Returns\n",
    "    -------\n",
    "    Xred : array, (n, m or d)\n",
    "        Reduced data matrix\n",
    "\n",
    "    e_values : array, (m)\n",
    "        The eigenvalues, sorted in descending manner.\n",
    "\n",
    "    e_vectors : array, (n, m)\n",
    "        The eigenvectors, sorted corresponding to eigenvalues.\n",
    "\n",
    "    \"\"\"\n",
    "    # Center to average\n",
    "    X_ = X-X.mean(0)\n",
    "    # Compute correlation / covarianz matrix\n",
    "    if corr:\n",
    "        CO = np.corrcoef(X_.T)\n",
    "    else:\n",
    "        CO = np.cov(X_.T)\n",
    "    # Compute eigenvalues and eigenvectors\n",
    "    e_values, e_vectors = sp.linalg.eigh(CO)\n",
    "\n",
    "    # Sort the eigenvalues and the eigenvectors descending\n",
    "    idx = np.argsort(e_values)[::-1]\n",
    "    e_vectors = e_vectors[:, idx]\n",
    "    e_values = e_values[idx]\n",
    "    # Get the number of desired dimensions\n",
    "    d_e_vecs = e_vectors\n",
    "    if d > 0:\n",
    "        d_e_vecs = e_vectors[:, :d]\n",
    "    else:\n",
    "        d = None\n",
    "    # Map principal components to original data\n",
    "    LIN = np.dot(d_e_vecs, np.dot(d_e_vecs.T, X_.T)).T\n",
    "    return LIN[:, :d], e_values, e_vectors"
   ]
  },
  {
   "cell_type": "code",
   "execution_count": 75,
   "metadata": {},
   "outputs": [
    {
     "data": {
      "text/plain": [
       "array([[  46.,   40.,  119., ...,   31.,  131.,  142.],\n",
       "       [  47.,   37.,  119., ...,   29.,  133.,  143.],\n",
       "       [  80.,   95.,  100., ...,   83.,   96.,   74.],\n",
       "       ..., \n",
       "       [  68.,   75.,  108., ...,  100.,  104.,   85.],\n",
       "       [  71.,   87.,  108., ...,   91.,  104.,   85.],\n",
       "       [  71.,   91.,  100., ...,   91.,  100.,   81.]])"
      ]
     },
     "execution_count": 75,
     "metadata": {},
     "output_type": "execute_result"
    }
   ],
   "source": [
    "ats_data"
   ]
  },
  {
   "cell_type": "code",
   "execution_count": 76,
   "metadata": {},
   "outputs": [
    {
     "data": {
      "text/plain": [
       "[<matplotlib.text.Text at 0x10dfd60f0>, <matplotlib.text.Text at 0x10dfef860>]"
      ]
     },
     "execution_count": 76,
     "metadata": {},
     "output_type": "execute_result"
    },
    {
     "data": {
      "image/png": "[encoded data removed]",
      "text/plain": [
       "<matplotlib.figure.Figure at 0x10b8725c0>"
      ]
     },
     "metadata": {},
     "output_type": "display_data"
    },
    {
     "data": {
      "image/png": "[encoded data removed]",
      "text/plain": [
       "<matplotlib.figure.Figure at 0x10e07efd0>"
      ]
     },
     "metadata": {},
     "output_type": "display_data"
    }
   ],
   "source": [
    "import numpy as np\n",
    "import scipy as sp\n",
    "from scipy.cluster.vq import kmeans2\n",
    "import matplotlib.pyplot as plt\n",
    "\n",
    "SN = ats_data\n",
    "'''np.array([ [1.325, 1.000, 1.825, 1.750],\n",
    "                [2.000, 1.250, 2.675, 1.750],\n",
    "                [3.000, 3.250, 3.000, 2.750],\n",
    "                [1.075, 2.000, 1.675, 1.000],\n",
    "                [3.425, 2.000, 3.250, 2.750],\n",
    "                [1.900, 2.000, 2.400, 2.750],\n",
    "                [3.325, 2.500, 3.000, 2.000],\n",
    "                [3.000, 2.750, 3.075, 2.250],\n",
    "                [2.075, 1.250, 2.000, 2.250],\n",
    "                [2.500, 3.250, 3.075, 2.250],\n",
    "                [1.675, 2.500, 2.675, 1.250],\n",
    "                [2.075, 1.750, 1.900, 1.500],\n",
    "                [1.750, 2.000, 1.150, 1.250],\n",
    "                [2.500, 2.250, 2.425, 2.500],\n",
    "                [1.675, 2.750, 2.000, 1.250],\n",
    "                [3.675, 3.000, 3.325, 2.500],\n",
    "                [1.250, 1.500, 1.150, 1.000]], dtype=float)\n",
    "'''\n",
    "clust,labels_ = kmeans2(SN,3)    # cluster with 3 random initial clusters\n",
    "# PCA on orig. dataset \n",
    "# Xred will have only 2 columns, the first two princ. comps.\n",
    "# evals has shape (4,) and evecs (4,4). We need all eigenvalues \n",
    "# to determine the portion of variance\n",
    "Xred, evals, evecs = dim_red_pca(SN,2)   \n",
    "\n",
    "xlab = '1. PC - ExpVar = {:.2f} %'.format(evals[0]/sum(evals)*100) # determine variance portion\n",
    "ylab = '2. PC - ExpVar = {:.2f} %'.format(evals[1]/sum(evals)*100)\n",
    "# plot the clusters, each set separately\n",
    "plt.figure()    \n",
    "ax = plt.gca()\n",
    "scatterHs = []\n",
    "clr = ['r', 'b', 'k']\n",
    "for cluster in set(labels_):\n",
    "    scatterHs.append(ax.scatter(Xred[labels_ == cluster, 0], Xred[labels_ == cluster, 1], \n",
    "                   color=clr[cluster], label='Cluster {}'.format(cluster)))\n",
    "plt.legend(handles=scatterHs,loc=4)\n",
    "plt.setp(ax, title='First and Second Principle Components', xlabel=xlab, ylabel=ylab)\n",
    "# plot also the eigenvectors for deriving the influence of each feature\n",
    "fig, ax = plt.subplots(2,1)\n",
    "ax[0].bar(feat,evecs[0])\n",
    "plt.setp(ax[0], title=\"First and Second Component's Eigenvectors \", ylabel='Weight')\n",
    "ax[1].bar(feat,evecs[1])\n",
    "plt.setp(ax[1], xlabel='Features', ylabel='Weight')"
   ]
  },
  {
   "cell_type": "code",
   "execution_count": 77,
   "metadata": {},
   "outputs": [],
   "source": [
    "# Let's just have a look at cluster zero, the red one. We'll be mostly interested in the \n",
    "# first component as it explains about 3/4 of the distribution. The red cluster is in \n",
    "# the upper area of the first component. All observations yield rather high values. \n",
    "# What does it mean? Now looking at the linear combination of the first component we see \n",
    "# on first sight, that the second feature is rather unimportant (for this component). \n",
    "# The first and fourth feature are the highest weighted and the third one has a negative \n",
    "# score. This means, that - as all red vertices have a rather high score on the first \n",
    "# PC - these vertices will have high values in the first and last feature, while at the \n",
    "# same time they have low scores concerning the third feature.\n",
    "\n",
    "# Concerning the second feature we can have a look at the second PC. However, note that \n",
    "# the overall impact is far smaller as this component explains only roughly 16 % of \n",
    "# the variance compared to the ~74 % of the first PC."
   ]
  },
  {
   "cell_type": "code",
   "execution_count": 78,
   "metadata": {},
   "outputs": [],
   "source": [
    "feat = np.array(range(0,36))"
   ]
  },
  {
   "cell_type": "code",
   "execution_count": 79,
   "metadata": {},
   "outputs": [
    {
     "data": {
      "text/plain": [
       "array([ 0,  1,  2,  3,  4,  5,  6,  7,  8,  9, 10, 11, 12, 13, 14, 15, 16,\n",
       "       17, 18, 19, 20, 21, 22, 23, 24, 25, 26, 27, 28, 29, 30, 31, 32, 33,\n",
       "       34, 35])"
      ]
     },
     "execution_count": 79,
     "metadata": {},
     "output_type": "execute_result"
    }
   ],
   "source": [
    "feat"
   ]
  },
  {
   "cell_type": "code",
   "execution_count": 81,
   "metadata": {},
   "outputs": [
    {
     "name": "stdout",
     "output_type": "stream",
     "text": [
      "res => [[  82.74222798   98.36139896  103.72797927   81.86658031   82.69559585\n",
      "    98.20595855  103.54274611   81.85233161   82.10103627   97.12305699\n",
      "   102.97668394   81.6865285    82.84326425   98.44300518  103.90544041\n",
      "    81.98834197   83.02331606   98.68134715  103.78367876   81.97668394\n",
      "    82.50647668   97.85751295  103.26165803   81.67227979   82.17098446\n",
      "    97.43911917  103.54533679   82.02590674   82.50388601   98.06994819\n",
      "   103.4365285    81.89896373   82.00129534   97.59585492  103.06217617\n",
      "    81.7111399 ]\n",
      " [  66.72303207   73.94266278   78.66375121   61.78717201   66.63265306\n",
      "    73.87560739   78.14868805   61.25558795   66.73372206   74.16132167\n",
      "    78.24586978   61.33916424   66.49271137   73.75218659   77.55004859\n",
      "    60.64334305   66.2526725    73.44412051   77.1068999    60.2361516\n",
      "    66.24975705   73.54616132   77.30806608   60.54907677   66.37317784\n",
      "    73.67735666   77.97862002   61.10592809   66.12244898   73.46452867\n",
      "    77.49173955   60.83381924   66.11078717   73.47619048   77.66958212\n",
      "    61.0728863 ]\n",
      " [  63.85510204   92.57959184  105.68571429   86.56326531   63.18163265\n",
      "    92.25510204  105.63265306   86.84081633   62.66938776   91.81428571\n",
      "   105.85714286   87.4122449    63.09795918   92.11428571  105.74081633\n",
      "    86.80816327   62.73469388   92.55510204  105.84285714   86.60612245\n",
      "    62.37755102   91.97142857  105.71632653   86.91836735   62.37346939\n",
      "    91.1244898   106.01632653   87.66326531   62.04489796   91.36122449\n",
      "   105.8244898    87.08367347   61.94285714   91.01632653  105.12244898\n",
      "    86.39591837]\n",
      " [  74.50669915   86.00487211   91.12180268   71.96467722   74.08404385\n",
      "    85.36297199   90.59926918   71.4725944    73.19366626   83.98051157\n",
      "    90.16686967   71.43605359   74.32399513   85.76004872   90.87454324\n",
      "    71.57125457   74.17783191   85.52862363   90.58830694   71.32764921\n",
      "    73.67965895   84.74177832   90.26552984   71.13520097   74.09378806\n",
      "    85.34957369   90.86236297   71.79658952   73.96102314   85.20097442\n",
      "    90.78562728   71.727162     73.77222899   84.73568819   90.73568819\n",
      "    71.83313033]\n",
      " [  89.37109827  108.28208092  113.35260116   89.82543353   89.58612717\n",
      "   108.54682081  113.6265896    89.88439306   89.19884393  108.16416185\n",
      "   113.04277457   89.44855491   90.00924855  109.2716763   114.36763006\n",
      "    90.57456647   90.07283237  109.43930636  114.42890173   90.62890173\n",
      "    89.56763006  108.73641618  113.62774566   89.97803468   89.52369942\n",
      "   108.77803468  113.6566474    90.12601156   89.45895954  108.82543353\n",
      "   113.69710983   90.07745665   88.75260116  107.84739884  112.6867052\n",
      "    89.27861272]\n",
      " [  68.57121439  107.61469265  118.28635682   95.76611694   68.69115442\n",
      "   107.89955022  118.51274363   95.86956522   68.23988006  106.67466267\n",
      "   117.28935532   95.02248876   68.37931034  107.79010495  118.58770615\n",
      "    96.06596702   68.42128936  108.26086957  119.04497751   96.48275862\n",
      "    68.05547226  107.43778111  118.39130435   95.7826087    67.68815592\n",
      "   106.68965517  117.54872564   95.39430285   67.7826087   107.4137931\n",
      "   118.41229385   95.94452774   67.6101949   107.17391304  118.3838081\n",
      "    95.87706147]\n",
      " [  54.69176471   76.23529412   93.36705882   78.99294118   54.33411765\n",
      "    75.41647059   92.55529412   78.46117647   54.66352941   75.58588235\n",
      "    92.52470588   78.29176471   54.56705882   75.77411765   92.18117647\n",
      "    77.71294118   54.57647059   75.36705882   91.43764706   77.17882353\n",
      "    54.87529412   75.66588235   91.62588235   77.41411765   54.83058824\n",
      "    75.80235294   91.98117647   77.46588235   54.89176471   75.71058824\n",
      "    91.88470588   77.51058824   55.24235294   76.18823529   92.51294118\n",
      "    78.16235294]\n",
      " [  48.03225806   39.06451613  114.58064516  119.09677419   48.25806452\n",
      "    39.87096774  114.90322581  119.           49.83870968   42.87096774\n",
      "   114.16129032  116.83870968   47.12903226   35.96774194  115.38709677\n",
      "   121.83870968   45.87096774   34.83870968  116.96774194  124.87096774\n",
      "    46.4516129    36.09677419  117.48387097  124.           46.80645161\n",
      "    35.22580645  116.64516129  123.74193548   46.22580645   34.83870968\n",
      "   116.03225806  122.61290323   46.03225806   35.4516129   115.38709677\n",
      "   122.09677419]]\n"
     ]
    }
   ],
   "source": [
    "estimator=KMeans()\n",
    "estimator.fit(ats_data)\n",
    "res=estimator.__dict__\n",
    "print ('res => {}'.format(res['cluster_centers_']))"
   ]
  },
  {
   "cell_type": "code",
   "execution_count": null,
   "metadata": {},
   "outputs": [],
   "source": []
  }
 ],
 "metadata": {
  "kernelspec": {
   "display_name": "Python 3",
   "language": "python",
   "name": "python3"
  },
  "language_info": {
   "codemirror_mode": {
    "name": "ipython",
    "version": 3
   },
   "file_extension": ".py",
   "mimetype": "text/x-python",
   "name": "python",
   "nbconvert_exporter": "python",
   "pygments_lexer": "ipython3",
   "version": "3.4.4"
  }
 },
 "nbformat": 4,
 "nbformat_minor": 2
}
